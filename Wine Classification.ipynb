{
 "cells": [
  {
   "cell_type": "code",
   "execution_count": 1,
   "id": "compound-essence",
   "metadata": {},
   "outputs": [],
   "source": [
    "import pandas as pd\n",
    "import numpy as np\n",
    "import matplotlib.pyplot as plt\n",
    "import seaborn as sns\n",
    "from pandas_profiling import ProfileReport\n",
    "from sklearn.model_selection import train_test_split\n",
    "from scipy import stats\n",
    "from sklearn.linear_model import LinearRegression\n",
    "import statsmodels.api as sm\n",
    "from sklearn.metrics import mean_squared_error\n",
    "from sklearn.preprocessing import PolynomialFeatures\n",
    "from sklearn.model_selection import cross_val_score\n",
    "from sklearn.model_selection import RepeatedKFold\n",
    "from sklearn.model_selection import RepeatedStratifiedKFold\n",
    "import xgboost as xgb\n",
    "from statsmodels.stats.outliers_influence import variance_inflation_factor\n",
    "from sklearn.feature_selection import SelectFromModel\n",
    "from sklearn.model_selection import RandomizedSearchCV\n",
    "from sklearn.model_selection import GridSearchCV\n",
    "from sklearn.linear_model import LogisticRegression\n",
    "from sklearn.naive_bayes import GaussianNB\n",
    "from sklearn.neighbors import KNeighborsClassifier\n",
    "from sklearn.svm import SVC\n",
    "from sklearn.metrics import roc_auc_score\n",
    "from sklearn.metrics import plot_roc_curve\n",
    "import dalex as dx\n",
    "import warnings\n",
    "warnings.simplefilter(action='ignore', category=FutureWarning)"
   ]
  },
  {
   "cell_type": "code",
   "execution_count": 2,
   "id": "familiar-potential",
   "metadata": {},
   "outputs": [],
   "source": [
    "df = pd.read_csv('data/winequality-red.csv')"
   ]
  },
  {
   "cell_type": "markdown",
   "id": "imported-marking",
   "metadata": {},
   "source": [
    "<h2> 1. EDA - studying correlations, values, statistics <h2>"
   ]
  },
  {
   "cell_type": "code",
   "execution_count": 3,
   "id": "least-aerospace",
   "metadata": {},
   "outputs": [
    {
     "data": {
      "application/vnd.jupyter.widget-view+json": {
       "model_id": "f45b82c04fbf44d49528fd2a37202025",
       "version_major": 2,
       "version_minor": 0
      },
      "text/plain": [
       "Summarize dataset:   0%|          | 0/5 [00:00<?, ?it/s]"
      ]
     },
     "metadata": {},
     "output_type": "display_data"
    },
    {
     "data": {
      "application/vnd.jupyter.widget-view+json": {
       "model_id": "fc7e047724b946b69ed1ec393f3afd30",
       "version_major": 2,
       "version_minor": 0
      },
      "text/plain": [
       "Generate report structure:   0%|          | 0/1 [00:00<?, ?it/s]"
      ]
     },
     "metadata": {},
     "output_type": "display_data"
    },
    {
     "data": {
      "application/vnd.jupyter.widget-view+json": {
       "model_id": "8e92784d42124f0c882ccc177eedee6a",
       "version_major": 2,
       "version_minor": 0
      },
      "text/plain": [
       "Render HTML:   0%|          | 0/1 [00:00<?, ?it/s]"
      ]
     },
     "metadata": {},
     "output_type": "display_data"
    },
    {
     "data": {
      "application/vnd.jupyter.widget-view+json": {
       "model_id": "725bda1d9d87426ba982372a5b7890d5",
       "version_major": 2,
       "version_minor": 0
      },
      "text/plain": [
       "Export report to file:   0%|          | 0/1 [00:00<?, ?it/s]"
      ]
     },
     "metadata": {},
     "output_type": "display_data"
    }
   ],
   "source": [
    "ProfileReport(df)\n",
    "ProfileReport(df).to_file(output_file='wine_classification_profiling_report.html')"
   ]
  },
  {
   "cell_type": "markdown",
   "id": "bearing-spending",
   "metadata": {},
   "source": [
    "A comment on EDA:\n",
    "<br>\n",
    "<br>\n",
    "distributions:\n",
    "<br>\n",
    "sulphates, pH and fixed acidity seem to have normal distribution. This will be later checked with a statistical test.\n",
    "<br>\n",
    "<br>\n",
    "correlations (Spearmans): \n",
    "<br>\n",
    "Fixed acidity - negative correlation between pH. Explainable with basic chemistry knowledge - there are 14 values on pH scale. The lower the value, the higher the acidity. Substances regarded as \"acidic\" would be in range (1, 7) . Substances regarded as \"alkaline\", would be in range (7, 14). In this case, higher acidity -> more acidic substance -> lower pH.\n",
    "<br>\n",
    "Fixed acidity - positive correlation between citric acid. Citric acid is regarded as acidic substance, so a natural correlation occurs. \n",
    "<br>\n",
    "Fixed acidity - positive correlation between density. Acidic substances are more dense than water (which has pH equal to 7). \n",
    "<br>\n",
    "Volatile acidity - negative correlation between quality. As described in the dataset, it is \"the amount of acetic acid in wine, which at too high of levels can lead to an unpleasant, vinegar taste\""
   ]
  },
  {
   "cell_type": "code",
   "execution_count": 4,
   "id": "perfect-period",
   "metadata": {},
   "outputs": [],
   "source": [
    "df.drop_duplicates(inplace=True)"
   ]
  },
  {
   "cell_type": "markdown",
   "id": "increasing-minority",
   "metadata": {},
   "source": [
    "Normality tests for variables:"
   ]
  },
  {
   "cell_type": "code",
   "execution_count": 5,
   "id": "flush-landing",
   "metadata": {},
   "outputs": [
    {
     "name": "stdout",
     "output_type": "stream",
     "text": [
      "fixed acidity does not have a normal distribution on 5% confidence level, based on Shapiro-Wilk test, test stat: 0.95, p-val: 0.0\n",
      "volatile acidity does not have a normal distribution on 5% confidence level, based on Shapiro-Wilk test, test stat: 0.97, p-val: 0.0\n",
      "citric acid does not have a normal distribution on 5% confidence level, based on Shapiro-Wilk test, test stat: 0.96, p-val: 0.0\n",
      "residual sugar does not have a normal distribution on 5% confidence level, based on Shapiro-Wilk test, test stat: 0.58, p-val: 0.0\n",
      "chlorides does not have a normal distribution on 5% confidence level, based on Shapiro-Wilk test, test stat: 0.48, p-val: 0.0\n",
      "free sulfur dioxide does not have a normal distribution on 5% confidence level, based on Shapiro-Wilk test, test stat: 0.9, p-val: 0.0\n",
      "total sulfur dioxide does not have a normal distribution on 5% confidence level, based on Shapiro-Wilk test, test stat: 0.87, p-val: 0.0\n",
      "density does not have a normal distribution on 5% confidence level, based on Shapiro-Wilk test, test stat: 0.99, p-val: 0.0\n",
      "pH does not have a normal distribution on 5% confidence level, based on Shapiro-Wilk test, test stat: 0.99, p-val: 0.0\n",
      "sulphates does not have a normal distribution on 5% confidence level, based on Shapiro-Wilk test, test stat: 0.83, p-val: 0.0\n",
      "alcohol does not have a normal distribution on 5% confidence level, based on Shapiro-Wilk test, test stat: 0.93, p-val: 0.0\n",
      "quality does not have a normal distribution on 5% confidence level, based on Shapiro-Wilk test, test stat: 0.86, p-val: 0.0\n"
     ]
    }
   ],
   "source": [
    "for i in df.columns:\n",
    "    print(f'''{i} does {'not' if stats.shapiro(df[i]).pvalue < 0.05 else ''} have a normal distribution on 5% confidence level, based on Shapiro-Wilk test, test stat: {round(stats.shapiro(df[i]).statistic, 2)}, p-val: {round(stats.shapiro(df[i]).pvalue, 4)}''')"
   ]
  },
  {
   "cell_type": "markdown",
   "id": "artistic-junction",
   "metadata": {},
   "source": [
    "<h2>2. The approach: <h2>\n",
    "<h4>a) predicting quality<h4>\n",
    "<h4>b) predicting whether the wine is good or bad<h4>"
   ]
  },
  {
   "cell_type": "code",
   "execution_count": 6,
   "id": "chinese-anatomy",
   "metadata": {},
   "outputs": [],
   "source": [
    "y = df['quality']\n",
    "X = df.drop(['quality', 'pH', 'citric acid', 'density'], axis=1) # dropping highly correlated features\n",
    "X_train, X_test, y_train, y_test = train_test_split(X, y, test_size=0.33, random_state=42)"
   ]
  },
  {
   "cell_type": "markdown",
   "id": "connected-thunder",
   "metadata": {},
   "source": [
    "2a) predicting quality - regression\n",
    "metric used will be MSE"
   ]
  },
  {
   "cell_type": "markdown",
   "id": "explicit-nylon",
   "metadata": {},
   "source": [
    "linear regression - OLS"
   ]
  },
  {
   "cell_type": "code",
   "execution_count": 7,
   "id": "substantial-blood",
   "metadata": {},
   "outputs": [],
   "source": [
    "x_lr = X\n",
    "x_lr = sm.add_constant(x_lr)\n",
    "model = sm.OLS(y, x_lr)\n",
    "results = model.fit()"
   ]
  },
  {
   "cell_type": "code",
   "execution_count": 8,
   "id": "noticed-freedom",
   "metadata": {},
   "outputs": [
    {
     "name": "stdout",
     "output_type": "stream",
     "text": [
      "p-value for white's heteroskedascity test is: 7.687441900163101e-20\n"
     ]
    }
   ],
   "source": [
    "print(f'''p-value for white's heteroskedascity test is: {sm.stats.diagnostic.het_white(results.resid,  results.model.exog)[1]}''')"
   ]
  },
  {
   "cell_type": "code",
   "execution_count": 9,
   "id": "certified-hawaiian",
   "metadata": {},
   "outputs": [
    {
     "data": {
      "text/html": [
       "<table class=\"simpletable\">\n",
       "<caption>OLS Regression Results</caption>\n",
       "<tr>\n",
       "  <th>Dep. Variable:</th>         <td>quality</td>     <th>  R-squared:         </th> <td>   0.359</td> \n",
       "</tr>\n",
       "<tr>\n",
       "  <th>Model:</th>                   <td>OLS</td>       <th>  Adj. R-squared:    </th> <td>   0.356</td> \n",
       "</tr>\n",
       "<tr>\n",
       "  <th>Method:</th>             <td>Least Squares</td>  <th>  F-statistic:       </th> <td>   91.75</td> \n",
       "</tr>\n",
       "<tr>\n",
       "  <th>Date:</th>             <td>Sat, 23 Apr 2022</td> <th>  Prob (F-statistic):</th> <td>1.18e-121</td>\n",
       "</tr>\n",
       "<tr>\n",
       "  <th>Time:</th>                 <td>15:26:38</td>     <th>  Log-Likelihood:    </th> <td> -1361.4</td> \n",
       "</tr>\n",
       "<tr>\n",
       "  <th>No. Observations:</th>      <td>  1359</td>      <th>  AIC:               </th> <td>   2741.</td> \n",
       "</tr>\n",
       "<tr>\n",
       "  <th>Df Residuals:</th>          <td>  1350</td>      <th>  BIC:               </th> <td>   2788.</td> \n",
       "</tr>\n",
       "<tr>\n",
       "  <th>Df Model:</th>              <td>     8</td>      <th>                     </th>     <td> </td>    \n",
       "</tr>\n",
       "<tr>\n",
       "  <th>Covariance Type:</th>         <td>HC1</td>       <th>                     </th>     <td> </td>    \n",
       "</tr>\n",
       "</table>\n",
       "<table class=\"simpletable\">\n",
       "<tr>\n",
       "            <td></td>              <th>coef</th>     <th>std err</th>      <th>z</th>      <th>P>|z|</th>  <th>[0.025</th>    <th>0.975]</th>  \n",
       "</tr>\n",
       "<tr>\n",
       "  <th>const</th>                <td>    2.6863</td> <td>    0.304</td> <td>    8.843</td> <td> 0.000</td> <td>    2.091</td> <td>    3.282</td>\n",
       "</tr>\n",
       "<tr>\n",
       "  <th>fixed acidity</th>        <td>    0.0224</td> <td>    0.013</td> <td>    1.675</td> <td> 0.094</td> <td>   -0.004</td> <td>    0.049</td>\n",
       "</tr>\n",
       "<tr>\n",
       "  <th>volatile acidity</th>     <td>   -1.1138</td> <td>    0.124</td> <td>   -8.972</td> <td> 0.000</td> <td>   -1.357</td> <td>   -0.871</td>\n",
       "</tr>\n",
       "<tr>\n",
       "  <th>residual sugar</th>       <td>    0.0021</td> <td>    0.017</td> <td>    0.123</td> <td> 0.902</td> <td>   -0.031</td> <td>    0.035</td>\n",
       "</tr>\n",
       "<tr>\n",
       "  <th>chlorides</th>            <td>   -1.7725</td> <td>    0.462</td> <td>   -3.840</td> <td> 0.000</td> <td>   -2.677</td> <td>   -0.868</td>\n",
       "</tr>\n",
       "<tr>\n",
       "  <th>free sulfur dioxide</th>  <td>    0.0030</td> <td>    0.002</td> <td>    1.262</td> <td> 0.207</td> <td>   -0.002</td> <td>    0.008</td>\n",
       "</tr>\n",
       "<tr>\n",
       "  <th>total sulfur dioxide</th> <td>   -0.0025</td> <td>    0.001</td> <td>   -3.248</td> <td> 0.001</td> <td>   -0.004</td> <td>   -0.001</td>\n",
       "</tr>\n",
       "<tr>\n",
       "  <th>sulphates</th>            <td>    0.8949</td> <td>    0.144</td> <td>    6.199</td> <td> 0.000</td> <td>    0.612</td> <td>    1.178</td>\n",
       "</tr>\n",
       "<tr>\n",
       "  <th>alcohol</th>              <td>    0.2848</td> <td>    0.021</td> <td>   13.317</td> <td> 0.000</td> <td>    0.243</td> <td>    0.327</td>\n",
       "</tr>\n",
       "</table>\n",
       "<table class=\"simpletable\">\n",
       "<tr>\n",
       "  <th>Omnibus:</th>       <td>28.656</td> <th>  Durbin-Watson:     </th> <td>   1.790</td>\n",
       "</tr>\n",
       "<tr>\n",
       "  <th>Prob(Omnibus):</th> <td> 0.000</td> <th>  Jarque-Bera (JB):  </th> <td>  42.599</td>\n",
       "</tr>\n",
       "<tr>\n",
       "  <th>Skew:</th>          <td>-0.208</td> <th>  Prob(JB):          </th> <td>5.62e-10</td>\n",
       "</tr>\n",
       "<tr>\n",
       "  <th>Kurtosis:</th>      <td> 3.761</td> <th>  Cond. No.          </th> <td>1.45e+03</td>\n",
       "</tr>\n",
       "</table><br/><br/>Notes:<br/>[1] Standard Errors are heteroscedasticity robust (HC1)<br/>[2] The condition number is large, 1.45e+03. This might indicate that there are<br/>strong multicollinearity or other numerical problems."
      ],
      "text/plain": [
       "<class 'statsmodels.iolib.summary.Summary'>\n",
       "\"\"\"\n",
       "                            OLS Regression Results                            \n",
       "==============================================================================\n",
       "Dep. Variable:                quality   R-squared:                       0.359\n",
       "Model:                            OLS   Adj. R-squared:                  0.356\n",
       "Method:                 Least Squares   F-statistic:                     91.75\n",
       "Date:                Sat, 23 Apr 2022   Prob (F-statistic):          1.18e-121\n",
       "Time:                        15:26:38   Log-Likelihood:                -1361.4\n",
       "No. Observations:                1359   AIC:                             2741.\n",
       "Df Residuals:                    1350   BIC:                             2788.\n",
       "Df Model:                           8                                         \n",
       "Covariance Type:                  HC1                                         \n",
       "========================================================================================\n",
       "                           coef    std err          z      P>|z|      [0.025      0.975]\n",
       "----------------------------------------------------------------------------------------\n",
       "const                    2.6863      0.304      8.843      0.000       2.091       3.282\n",
       "fixed acidity            0.0224      0.013      1.675      0.094      -0.004       0.049\n",
       "volatile acidity        -1.1138      0.124     -8.972      0.000      -1.357      -0.871\n",
       "residual sugar           0.0021      0.017      0.123      0.902      -0.031       0.035\n",
       "chlorides               -1.7725      0.462     -3.840      0.000      -2.677      -0.868\n",
       "free sulfur dioxide      0.0030      0.002      1.262      0.207      -0.002       0.008\n",
       "total sulfur dioxide    -0.0025      0.001     -3.248      0.001      -0.004      -0.001\n",
       "sulphates                0.8949      0.144      6.199      0.000       0.612       1.178\n",
       "alcohol                  0.2848      0.021     13.317      0.000       0.243       0.327\n",
       "==============================================================================\n",
       "Omnibus:                       28.656   Durbin-Watson:                   1.790\n",
       "Prob(Omnibus):                  0.000   Jarque-Bera (JB):               42.599\n",
       "Skew:                          -0.208   Prob(JB):                     5.62e-10\n",
       "Kurtosis:                       3.761   Cond. No.                     1.45e+03\n",
       "==============================================================================\n",
       "\n",
       "Notes:\n",
       "[1] Standard Errors are heteroscedasticity robust (HC1)\n",
       "[2] The condition number is large, 1.45e+03. This might indicate that there are\n",
       "strong multicollinearity or other numerical problems.\n",
       "\"\"\""
      ]
     },
     "execution_count": 9,
     "metadata": {},
     "output_type": "execute_result"
    }
   ],
   "source": [
    "results_r = model.fit(cov_type='HC1')\n",
    "results_r.summary()"
   ]
  },
  {
   "cell_type": "markdown",
   "id": "heard-school",
   "metadata": {},
   "source": [
    "Addressing multicollinearity problem"
   ]
  },
  {
   "cell_type": "code",
   "execution_count": 10,
   "id": "interested-summit",
   "metadata": {},
   "outputs": [],
   "source": [
    "vif_data = pd.DataFrame()\n",
    "vif_data[\"feature\"] = X.columns\n",
    "vif_data[\"VIF\"] = [variance_inflation_factor(X.values, i) for i in range(len(X.columns))]"
   ]
  },
  {
   "cell_type": "code",
   "execution_count": 11,
   "id": "medium-software",
   "metadata": {},
   "outputs": [],
   "source": [
    "vif_adj_cols = vif_data[vif_data.VIF < 10]['feature'].values"
   ]
  },
  {
   "cell_type": "markdown",
   "id": "swedish-fifteen",
   "metadata": {},
   "source": [
    "Creating a more general model"
   ]
  },
  {
   "cell_type": "code",
   "execution_count": 12,
   "id": "computational-southwest",
   "metadata": {},
   "outputs": [],
   "source": [
    "vif_adj_x = X[vif_adj_cols]\n",
    "vif_adj_x = sm.add_constant(vif_adj_x)"
   ]
  },
  {
   "cell_type": "code",
   "execution_count": 13,
   "id": "taken-convertible",
   "metadata": {},
   "outputs": [
    {
     "data": {
      "text/html": [
       "<table class=\"simpletable\">\n",
       "<caption>OLS Regression Results</caption>\n",
       "<tr>\n",
       "  <th>Dep. Variable:</th>         <td>quality</td>     <th>  R-squared:         </th> <td>   0.194</td>\n",
       "</tr>\n",
       "<tr>\n",
       "  <th>Model:</th>                   <td>OLS</td>       <th>  Adj. R-squared:    </th> <td>   0.191</td>\n",
       "</tr>\n",
       "<tr>\n",
       "  <th>Method:</th>             <td>Least Squares</td>  <th>  F-statistic:       </th> <td>   61.14</td>\n",
       "</tr>\n",
       "<tr>\n",
       "  <th>Date:</th>             <td>Sat, 23 Apr 2022</td> <th>  Prob (F-statistic):</th> <td>1.50e-57</td>\n",
       "</tr>\n",
       "<tr>\n",
       "  <th>Time:</th>                 <td>15:26:38</td>     <th>  Log-Likelihood:    </th> <td> -1517.5</td>\n",
       "</tr>\n",
       "<tr>\n",
       "  <th>No. Observations:</th>      <td>  1359</td>      <th>  AIC:               </th> <td>   3047.</td>\n",
       "</tr>\n",
       "<tr>\n",
       "  <th>Df Residuals:</th>          <td>  1353</td>      <th>  BIC:               </th> <td>   3078.</td>\n",
       "</tr>\n",
       "<tr>\n",
       "  <th>Df Model:</th>              <td>     5</td>      <th>                     </th>     <td> </td>   \n",
       "</tr>\n",
       "<tr>\n",
       "  <th>Covariance Type:</th>         <td>HC1</td>       <th>                     </th>     <td> </td>   \n",
       "</tr>\n",
       "</table>\n",
       "<table class=\"simpletable\">\n",
       "<tr>\n",
       "            <td></td>              <th>coef</th>     <th>std err</th>      <th>z</th>      <th>P>|z|</th>  <th>[0.025</th>    <th>0.975]</th>  \n",
       "</tr>\n",
       "<tr>\n",
       "  <th>const</th>                <td>    6.7409</td> <td>    0.082</td> <td>   81.936</td> <td> 0.000</td> <td>    6.580</td> <td>    6.902</td>\n",
       "</tr>\n",
       "<tr>\n",
       "  <th>volatile acidity</th>     <td>   -1.6809</td> <td>    0.122</td> <td>  -13.790</td> <td> 0.000</td> <td>   -1.920</td> <td>   -1.442</td>\n",
       "</tr>\n",
       "<tr>\n",
       "  <th>residual sugar</th>       <td>    0.0273</td> <td>    0.019</td> <td>    1.475</td> <td> 0.140</td> <td>   -0.009</td> <td>    0.064</td>\n",
       "</tr>\n",
       "<tr>\n",
       "  <th>chlorides</th>            <td>   -1.7082</td> <td>    0.374</td> <td>   -4.569</td> <td> 0.000</td> <td>   -2.441</td> <td>   -0.975</td>\n",
       "</tr>\n",
       "<tr>\n",
       "  <th>free sulfur dioxide</th>  <td>    0.0054</td> <td>    0.003</td> <td>    2.014</td> <td> 0.044</td> <td>    0.000</td> <td>    0.011</td>\n",
       "</tr>\n",
       "<tr>\n",
       "  <th>total sulfur dioxide</th> <td>   -0.0050</td> <td>    0.001</td> <td>   -5.387</td> <td> 0.000</td> <td>   -0.007</td> <td>   -0.003</td>\n",
       "</tr>\n",
       "</table>\n",
       "<table class=\"simpletable\">\n",
       "<tr>\n",
       "  <th>Omnibus:</th>       <td>17.069</td> <th>  Durbin-Watson:     </th> <td>   1.840</td>\n",
       "</tr>\n",
       "<tr>\n",
       "  <th>Prob(Omnibus):</th> <td> 0.000</td> <th>  Jarque-Bera (JB):  </th> <td>  23.565</td>\n",
       "</tr>\n",
       "<tr>\n",
       "  <th>Skew:</th>          <td> 0.139</td> <th>  Prob(JB):          </th> <td>7.64e-06</td>\n",
       "</tr>\n",
       "<tr>\n",
       "  <th>Kurtosis:</th>      <td> 3.582</td> <th>  Cond. No.          </th> <td>1.22e+03</td>\n",
       "</tr>\n",
       "</table><br/><br/>Notes:<br/>[1] Standard Errors are heteroscedasticity robust (HC1)<br/>[2] The condition number is large, 1.22e+03. This might indicate that there are<br/>strong multicollinearity or other numerical problems."
      ],
      "text/plain": [
       "<class 'statsmodels.iolib.summary.Summary'>\n",
       "\"\"\"\n",
       "                            OLS Regression Results                            \n",
       "==============================================================================\n",
       "Dep. Variable:                quality   R-squared:                       0.194\n",
       "Model:                            OLS   Adj. R-squared:                  0.191\n",
       "Method:                 Least Squares   F-statistic:                     61.14\n",
       "Date:                Sat, 23 Apr 2022   Prob (F-statistic):           1.50e-57\n",
       "Time:                        15:26:38   Log-Likelihood:                -1517.5\n",
       "No. Observations:                1359   AIC:                             3047.\n",
       "Df Residuals:                    1353   BIC:                             3078.\n",
       "Df Model:                           5                                         \n",
       "Covariance Type:                  HC1                                         \n",
       "========================================================================================\n",
       "                           coef    std err          z      P>|z|      [0.025      0.975]\n",
       "----------------------------------------------------------------------------------------\n",
       "const                    6.7409      0.082     81.936      0.000       6.580       6.902\n",
       "volatile acidity        -1.6809      0.122    -13.790      0.000      -1.920      -1.442\n",
       "residual sugar           0.0273      0.019      1.475      0.140      -0.009       0.064\n",
       "chlorides               -1.7082      0.374     -4.569      0.000      -2.441      -0.975\n",
       "free sulfur dioxide      0.0054      0.003      2.014      0.044       0.000       0.011\n",
       "total sulfur dioxide    -0.0050      0.001     -5.387      0.000      -0.007      -0.003\n",
       "==============================================================================\n",
       "Omnibus:                       17.069   Durbin-Watson:                   1.840\n",
       "Prob(Omnibus):                  0.000   Jarque-Bera (JB):               23.565\n",
       "Skew:                           0.139   Prob(JB):                     7.64e-06\n",
       "Kurtosis:                       3.582   Cond. No.                     1.22e+03\n",
       "==============================================================================\n",
       "\n",
       "Notes:\n",
       "[1] Standard Errors are heteroscedasticity robust (HC1)\n",
       "[2] The condition number is large, 1.22e+03. This might indicate that there are\n",
       "strong multicollinearity or other numerical problems.\n",
       "\"\"\""
      ]
     },
     "execution_count": 13,
     "metadata": {},
     "output_type": "execute_result"
    }
   ],
   "source": [
    "model_vif_adj = sm.OLS(y, vif_adj_x)\n",
    "results_v = model_vif_adj.fit(cov_type='HC1')\n",
    "results_v.summary()"
   ]
  },
  {
   "cell_type": "markdown",
   "id": "identified-pulse",
   "metadata": {},
   "source": [
    "LR model does not pass all diagnostic tests. Thus, we may not assume it is the best model. We should look further for better solutions"
   ]
  },
  {
   "cell_type": "code",
   "execution_count": 14,
   "id": "roman-facing",
   "metadata": {},
   "outputs": [],
   "source": [
    "regression_results = {'OLS': mean_squared_error(y, results_v.predict())}"
   ]
  },
  {
   "cell_type": "markdown",
   "id": "essential-spell",
   "metadata": {},
   "source": [
    "xgboost"
   ]
  },
  {
   "cell_type": "code",
   "execution_count": 15,
   "id": "stock-mainland",
   "metadata": {},
   "outputs": [],
   "source": [
    "xgb_model = xgb.XGBRegressor()\n",
    "cv = RepeatedKFold(n_splits=5, n_repeats=3, random_state=42)\n",
    "xgb_model.fit(X_train, y_train)\n",
    "scores = cross_val_score(xgb_model, X_test, y_test, scoring='neg_mean_squared_error', cv=cv)\n",
    "regression_results['XGB'] = abs(scores.mean())"
   ]
  },
  {
   "cell_type": "code",
   "execution_count": 16,
   "id": "optional-accommodation",
   "metadata": {},
   "outputs": [],
   "source": [
    "%matplotlib inline"
   ]
  },
  {
   "cell_type": "code",
   "execution_count": 17,
   "id": "given-donna",
   "metadata": {},
   "outputs": [
    {
     "data": {
      "text/plain": [
       "<AxesSubplot:title={'center':'Feature importance'}, xlabel='F score', ylabel='Features'>"
      ]
     },
     "execution_count": 17,
     "metadata": {},
     "output_type": "execute_result"
    },
    {
     "data": {
      "image/png": "[encoded data removed]",
      "text/plain": [
       "<Figure size 432x288 with 1 Axes>"
      ]
     },
     "metadata": {
      "needs_background": "light"
     },
     "output_type": "display_data"
    }
   ],
   "source": [
    "xgb.plot_importance(xgb_model)"
   ]
  },
  {
   "cell_type": "markdown",
   "id": "reserved-arkansas",
   "metadata": {},
   "source": [
    "Hyperparameter tuning"
   ]
  },
  {
   "cell_type": "code",
   "execution_count": 18,
   "id": "tight-boutique",
   "metadata": {},
   "outputs": [
    {
     "name": "stdout",
     "output_type": "stream",
     "text": [
      "Fitting 15 folds for each of 500 candidates, totalling 7500 fits\n"
     ]
    },
    {
     "data": {
      "text/plain": [
       "RandomizedSearchCV(cv=RepeatedKFold(n_repeats=3, n_splits=5, random_state=42),\n",
       "                   estimator=XGBRegressor(base_score=None, booster=None,\n",
       "                                          colsample_bylevel=None,\n",
       "                                          colsample_bynode=None,\n",
       "                                          colsample_bytree=None,\n",
       "                                          enable_categorical=False, gamma=None,\n",
       "                                          gpu_id=None, importance_type=None,\n",
       "                                          interaction_constraints=None,\n",
       "                                          learning_rate=None,\n",
       "                                          max_delta_step=None, max_depth=None,\n",
       "                                          min...\n",
       "                   param_distributions={'alpha': array([0.1, 0.2, 0.3, 0.4, 0.5, 0.6, 0.7, 0.8]),\n",
       "                                        'colsample_bytree': [0.3, 0.5, 0.7],\n",
       "                                        'gamma': array([0.1, 0.2, 0.3, 0.4, 0.5, 0.6, 0.7, 0.8]),\n",
       "                                        'lambda': array([0.1, 0.2, 0.3, 0.4, 0.5, 0.6, 0.7, 0.8]),\n",
       "                                        'learning_rate': array([0.01 , 0.035, 0.06 , 0.085, 0.11 , 0.135, 0.16 , 0.185, 0.21 ,\n",
       "       0.235]),\n",
       "                                        'max_depth': range(1, 7),\n",
       "                                        'n_estimators': array([10, 20, 30, 40, 50, 60, 70, 80, 90])},\n",
       "                   scoring='neg_mean_squared_error', verbose=1)"
      ]
     },
     "execution_count": 18,
     "metadata": {},
     "output_type": "execute_result"
    }
   ],
   "source": [
    "params = {'max_depth': range(1, 7),\n",
    "       'learning_rate': np.arange(0.01, 0.25, 0.025),\n",
    "       'n_estimators': np.arange(10, 100, 10),\n",
    "       'colsample_bytree': [0.3, 0.5, 0.7],\n",
    "        'alpha': np.arange(0.1, 0.9, 0.1),\n",
    "        'lambda': np.arange(0.1, 0.9, 0.1),\n",
    "        'gamma': np.arange(0.1, 0.9, 0.1)}\n",
    "xgb_h = xgb.XGBRegressor()\n",
    "clf = RandomizedSearchCV(estimator=xgb_h, \n",
    "                   param_distributions=params,\n",
    "                   scoring='neg_mean_squared_error', \n",
    "                   n_iter=500,\n",
    "                   n_jobs=-1,\n",
    "                   verbose=1,\n",
    "                   cv=cv)\n",
    "clf.fit(X_train, y_train)"
   ]
  },
  {
   "cell_type": "code",
   "execution_count": 19,
   "id": "occupied-plate",
   "metadata": {},
   "outputs": [],
   "source": [
    "xgb_hp = xgb.XGBRegressor(**clf.best_params_)\n",
    "scores_hp = cross_val_score(xgb_hp, X, y, scoring='neg_mean_squared_error', cv=cv)\n",
    "regression_results['XGB_hp'] = abs(scores_hp.mean())"
   ]
  },
  {
   "cell_type": "code",
   "execution_count": 20,
   "id": "established-helping",
   "metadata": {},
   "outputs": [
    {
     "data": {
      "text/plain": [
       "{'OLS': 0.5462842088896603,\n",
       " 'XGB': 0.47018256390861607,\n",
       " 'XGB_hp': 0.42301317565404}"
      ]
     },
     "execution_count": 20,
     "metadata": {},
     "output_type": "execute_result"
    }
   ],
   "source": [
    "regression_results"
   ]
  },
  {
   "cell_type": "markdown",
   "id": "compatible-dealing",
   "metadata": {},
   "source": [
    "2b) classifying whether the wine is good or bad - cutoff at quality = 7"
   ]
  },
  {
   "cell_type": "code",
   "execution_count": 21,
   "id": "amino-burke",
   "metadata": {},
   "outputs": [
    {
     "data": {
      "text/plain": [
       "(array([0, 1]), array([1342,   17]))"
      ]
     },
     "execution_count": 21,
     "metadata": {},
     "output_type": "execute_result"
    }
   ],
   "source": [
    "good = np.where(df.quality > 7, 1, 0)\n",
    "np.unique(good, return_counts=True)"
   ]
  },
  {
   "cell_type": "code",
   "execution_count": 22,
   "id": "packed-fifteen",
   "metadata": {},
   "outputs": [],
   "source": [
    "X_train, X_test, y_train, y_test = train_test_split(X, good, test_size=0.2, random_state=42, stratify = good)\n",
    "#imbalanced classes -> stratify"
   ]
  },
  {
   "cell_type": "code",
   "execution_count": 23,
   "id": "complete-atlas",
   "metadata": {},
   "outputs": [
    {
     "data": {
      "text/plain": [
       "LogisticRegression(max_iter=1000)"
      ]
     },
     "execution_count": 23,
     "metadata": {},
     "output_type": "execute_result"
    }
   ],
   "source": [
    "lr = LogisticRegression(max_iter=1000)\n",
    "lr.fit(X_train, y_train)"
   ]
  },
  {
   "cell_type": "code",
   "execution_count": 24,
   "id": "gentle-allocation",
   "metadata": {},
   "outputs": [
    {
     "data": {
      "text/plain": [
       "GaussianNB()"
      ]
     },
     "execution_count": 24,
     "metadata": {},
     "output_type": "execute_result"
    }
   ],
   "source": [
    "nb = GaussianNB()\n",
    "nb.fit(X_train, y_train)"
   ]
  },
  {
   "cell_type": "code",
   "execution_count": 25,
   "id": "differential-cross",
   "metadata": {},
   "outputs": [
    {
     "data": {
      "text/plain": [
       "KNeighborsClassifier()"
      ]
     },
     "execution_count": 25,
     "metadata": {},
     "output_type": "execute_result"
    }
   ],
   "source": [
    "knn = KNeighborsClassifier()\n",
    "knn.fit(X_train, y_train)"
   ]
  },
  {
   "cell_type": "code",
   "execution_count": 26,
   "id": "eight-wrist",
   "metadata": {},
   "outputs": [
    {
     "data": {
      "text/plain": [
       "SVC()"
      ]
     },
     "execution_count": 26,
     "metadata": {},
     "output_type": "execute_result"
    }
   ],
   "source": [
    "svm = SVC()\n",
    "svm.fit(X_train, y_train)"
   ]
  },
  {
   "cell_type": "code",
   "execution_count": 27,
   "id": "instructional-merit",
   "metadata": {},
   "outputs": [
    {
     "name": "stdout",
     "output_type": "stream",
     "text": [
      "[15:35:30] WARNING: /Users/runner/work/xgboost/xgboost/src/learner.cc:1115: Starting in XGBoost 1.3.0, the default evaluation metric used with the objective 'binary:logistic' was changed from 'error' to 'logloss'. Explicitly set eval_metric if you'd like to restore the old behavior.\n"
     ]
    },
    {
     "name": "stderr",
     "output_type": "stream",
     "text": [
      "/Users/jakubzmujdzin/opt/miniconda3/lib/python3.8/site-packages/xgboost/sklearn.py:1224: UserWarning: The use of label encoder in XGBClassifier is deprecated and will be removed in a future release. To remove this warning, do the following: 1) Pass option use_label_encoder=False when constructing XGBClassifier object; and 2) Encode your labels (y) as integers starting with 0, i.e. 0, 1, 2, ..., [num_class - 1].\n",
      "  warnings.warn(label_encoder_deprecation_msg, UserWarning)\n"
     ]
    },
    {
     "data": {
      "text/plain": [
       "XGBClassifier(base_score=0.5, booster='gbtree', colsample_bylevel=1,\n",
       "              colsample_bynode=1, colsample_bytree=1, enable_categorical=False,\n",
       "              gamma=0, gpu_id=-1, importance_type=None,\n",
       "              interaction_constraints='', learning_rate=0.300000012,\n",
       "              max_delta_step=0, max_depth=6, min_child_weight=1, missing=nan,\n",
       "              monotone_constraints='()', n_estimators=100, n_jobs=8,\n",
       "              num_parallel_tree=1, predictor='auto', random_state=0,\n",
       "              reg_alpha=0, reg_lambda=1, scale_pos_weight=1, subsample=1,\n",
       "              tree_method='exact', validate_parameters=1, verbosity=None)"
      ]
     },
     "execution_count": 27,
     "metadata": {},
     "output_type": "execute_result"
    }
   ],
   "source": [
    "xgb_c = xgb.XGBClassifier()\n",
    "xgb_c.fit(X_train, y_train)"
   ]
  },
  {
   "cell_type": "code",
   "execution_count": 28,
   "id": "operational-editing",
   "metadata": {},
   "outputs": [
    {
     "data": {
      "text/plain": [
       "<sklearn.metrics._plot.roc_curve.RocCurveDisplay at 0x7fa14876fb20>"
      ]
     },
     "execution_count": 28,
     "metadata": {},
     "output_type": "execute_result"
    },
    {
     "data": {
      "image/png": "[encoded data removed]",
      "text/plain": [
       "<Figure size 432x288 with 1 Axes>"
      ]
     },
     "metadata": {
      "needs_background": "light"
     },
     "output_type": "display_data"
    }
   ],
   "source": [
    "roc = plot_roc_curve(lr, X_test, y_test)\n",
    "plot_roc_curve(knn, X_test, y_test, ax = roc.ax_)\n",
    "plot_roc_curve(nb, X_test, y_test, ax = roc.ax_)\n",
    "plot_roc_curve(svm, X_test, y_test, ax = roc.ax_)\n",
    "plot_roc_curve(xgb_c, X_test, y_test, ax = roc.ax_)"
   ]
  },
  {
   "cell_type": "markdown",
   "id": "genetic-house",
   "metadata": {},
   "source": [
    "The best models by ROC AUC metric are Logistic Regression (0.88) and XGB Classifier (0.87). "
   ]
  },
  {
   "cell_type": "markdown",
   "id": "antique-telescope",
   "metadata": {},
   "source": [
    "Hyperparameter tuning"
   ]
  },
  {
   "cell_type": "code",
   "execution_count": 29,
   "id": "dominican-sphere",
   "metadata": {},
   "outputs": [],
   "source": [
    "cv = RepeatedStratifiedKFold(n_splits=5, n_repeats=3, random_state=42)"
   ]
  },
  {
   "cell_type": "code",
   "execution_count": 43,
   "id": "dying-rouge",
   "metadata": {},
   "outputs": [
    {
     "name": "stdout",
     "output_type": "stream",
     "text": [
      "Fitting 15 folds for each of 500 candidates, totalling 7500 fits\n",
      "[15:52:19] WARNING: /Users/runner/work/xgboost/xgboost/src/learner.cc:1115: Starting in XGBoost 1.3.0, the default evaluation metric used with the objective 'binary:logistic' was changed from 'error' to 'logloss'. Explicitly set eval_metric if you'd like to restore the old behavior.\n"
     ]
    },
    {
     "name": "stderr",
     "output_type": "stream",
     "text": [
      "/Users/jakubzmujdzin/opt/miniconda3/lib/python3.8/site-packages/xgboost/sklearn.py:1224: UserWarning:\n",
      "\n",
      "The use of label encoder in XGBClassifier is deprecated and will be removed in a future release. To remove this warning, do the following: 1) Pass option use_label_encoder=False when constructing XGBClassifier object; and 2) Encode your labels (y) as integers starting with 0, i.e. 0, 1, 2, ..., [num_class - 1].\n",
      "\n"
     ]
    },
    {
     "data": {
      "text/plain": [
       "RandomizedSearchCV(cv=RepeatedStratifiedKFold(n_repeats=3, n_splits=5, random_state=42),\n",
       "                   estimator=XGBClassifier(base_score=None, booster=None,\n",
       "                                           colsample_bylevel=None,\n",
       "                                           colsample_bynode=None,\n",
       "                                           colsample_bytree=None,\n",
       "                                           enable_categorical=False, gamma=None,\n",
       "                                           gpu_id=None, importance_type=None,\n",
       "                                           interaction_constraints=None,\n",
       "                                           learning_rate=None,\n",
       "                                           max_delta_step=None, max_dep...\n",
       "                   param_distributions={'alpha': array([0.1, 0.2, 0.3, 0.4, 0.5, 0.6, 0.7, 0.8]),\n",
       "                                        'colsample_bytree': [0.3, 0.5, 0.7],\n",
       "                                        'gamma': array([0.1, 0.2, 0.3, 0.4, 0.5, 0.6, 0.7, 0.8]),\n",
       "                                        'lambda': array([0.1, 0.2, 0.3, 0.4, 0.5, 0.6, 0.7, 0.8]),\n",
       "                                        'learning_rate': array([0.01 , 0.035, 0.06 , 0.085, 0.11 , 0.135, 0.16 , 0.185, 0.21 ,\n",
       "       0.235]),\n",
       "                                        'max_depth': range(1, 7),\n",
       "                                        'n_estimators': array([10, 20, 30, 40, 50, 60, 70, 80, 90])},\n",
       "                   scoring='roc_auc', verbose=1)"
      ]
     },
     "execution_count": 43,
     "metadata": {},
     "output_type": "execute_result"
    }
   ],
   "source": [
    "xgb_c_t = RandomizedSearchCV(estimator=xgb.XGBClassifier(), \n",
    "                   param_distributions=params,\n",
    "                   scoring='roc_auc', \n",
    "                   n_iter=500,\n",
    "                   n_jobs=-1,\n",
    "                   verbose=1,\n",
    "                   cv=cv)\n",
    "xgb_c_t.fit(X_train, y_train)"
   ]
  },
  {
   "cell_type": "code",
   "execution_count": 44,
   "id": "otherwise-processor",
   "metadata": {},
   "outputs": [],
   "source": [
    "xgb_c_t.best_params_['n_estimators'] = int(xgb_c_t.best_params_['n_estimators'])"
   ]
  },
  {
   "cell_type": "code",
   "execution_count": 45,
   "id": "billion-piano",
   "metadata": {},
   "outputs": [
    {
     "name": "stdout",
     "output_type": "stream",
     "text": [
      "Fitting 15 folds for each of 100 candidates, totalling 1500 fits\n"
     ]
    },
    {
     "data": {
      "text/plain": [
       "GridSearchCV(cv=RepeatedStratifiedKFold(n_repeats=3, n_splits=5, random_state=42),\n",
       "             estimator=GaussianNB(),\n",
       "             param_grid={'var_smoothing': array([1.00000000e+00, 8.11130831e-01, 6.57933225e-01, 5.33669923e-01,\n",
       "       4.32876128e-01, 3.51119173e-01, 2.84803587e-01, 2.31012970e-01,\n",
       "       1.87381742e-01, 1.51991108e-01, 1.23284674e-01, 1.00000000e-01,\n",
       "       8.11130831e-02, 6.57933225e-02, 5....\n",
       "       1.23284674e-07, 1.00000000e-07, 8.11130831e-08, 6.57933225e-08,\n",
       "       5.33669923e-08, 4.32876128e-08, 3.51119173e-08, 2.84803587e-08,\n",
       "       2.31012970e-08, 1.87381742e-08, 1.51991108e-08, 1.23284674e-08,\n",
       "       1.00000000e-08, 8.11130831e-09, 6.57933225e-09, 5.33669923e-09,\n",
       "       4.32876128e-09, 3.51119173e-09, 2.84803587e-09, 2.31012970e-09,\n",
       "       1.87381742e-09, 1.51991108e-09, 1.23284674e-09, 1.00000000e-09])},\n",
       "             scoring='roc_auc', verbose=1)"
      ]
     },
     "execution_count": 45,
     "metadata": {},
     "output_type": "execute_result"
    }
   ],
   "source": [
    "param_grid_nb = {\n",
    "    'var_smoothing': np.logspace(0,-9, num=100)\n",
    "}\n",
    "nb_t = GaussianNB()\n",
    "gs_NB = GridSearchCV(estimator=nb_t, param_grid=param_grid_nb, cv=cv,verbose=1, scoring='roc_auc')\n",
    "gs_NB.fit(X_train, y_train)"
   ]
  },
  {
   "cell_type": "code",
   "execution_count": 46,
   "id": "governing-republican",
   "metadata": {},
   "outputs": [],
   "source": [
    "knn_best_k = 1\n",
    "knn_best_roc_auc = 0\n",
    "for i in range(1, 30):\n",
    "    knn_test = KNeighborsClassifier(n_neighbors=i)\n",
    "    knn_test.fit(X_train, y_train)\n",
    "    temp_preds = knn_test.predict_proba(X_test)[:, 1]\n",
    "    if roc_auc_score(y_test, temp_preds) > knn_best_roc_auc:\n",
    "        knn_best_roc_auc = roc_auc_score(y_test, temp_preds)\n",
    "        knn_best_k = i"
   ]
  },
  {
   "cell_type": "code",
   "execution_count": 47,
   "id": "meaningful-forest",
   "metadata": {},
   "outputs": [
    {
     "name": "stdout",
     "output_type": "stream",
     "text": [
      "Fitting 15 folds for each of 36 candidates, totalling 540 fits\n"
     ]
    },
    {
     "data": {
      "text/plain": [
       "GridSearchCV(cv=RepeatedStratifiedKFold(n_repeats=3, n_splits=5, random_state=42),\n",
       "             estimator=SVC(),\n",
       "             param_grid={'C': [0.1, 1, 10, 100, 1000, 10000],\n",
       "                         'gamma': [1, 0.1, 0.01, 0.001, 0.0001, 1e-05]},\n",
       "             scoring='roc_auc', verbose=1)"
      ]
     },
     "execution_count": 47,
     "metadata": {},
     "output_type": "execute_result"
    }
   ],
   "source": [
    "svc_param_grid = {'C': [0.1, 1, 10, 100, 1000, 10000],\n",
    "              'gamma': [1, 0.1, 0.01, 0.001, 0.0001, 0.00001]}\n",
    "svc_g = GridSearchCV(SVC(), svc_param_grid, refit = True, verbose = 1, scoring='roc_auc', cv=cv)\n",
    "svc_g.fit(X_train, y_train)"
   ]
  },
  {
   "cell_type": "code",
   "execution_count": 48,
   "id": "grateful-relative",
   "metadata": {},
   "outputs": [
    {
     "name": "stdout",
     "output_type": "stream",
     "text": [
      "[15:52:42] WARNING: /Users/runner/work/xgboost/xgboost/src/learner.cc:1115: Starting in XGBoost 1.3.0, the default evaluation metric used with the objective 'binary:logistic' was changed from 'error' to 'logloss'. Explicitly set eval_metric if you'd like to restore the old behavior.\n"
     ]
    },
    {
     "name": "stderr",
     "output_type": "stream",
     "text": [
      "/Users/jakubzmujdzin/opt/miniconda3/lib/python3.8/site-packages/xgboost/sklearn.py:1224: UserWarning:\n",
      "\n",
      "The use of label encoder in XGBClassifier is deprecated and will be removed in a future release. To remove this warning, do the following: 1) Pass option use_label_encoder=False when constructing XGBClassifier object; and 2) Encode your labels (y) as integers starting with 0, i.e. 0, 1, 2, ..., [num_class - 1].\n",
      "\n"
     ]
    },
    {
     "data": {
      "text/plain": [
       "XGBClassifier(alpha=0.7000000000000001, base_score=0.5, booster='gbtree',\n",
       "              colsample_bylevel=1, colsample_bynode=1, colsample_bytree=0.5,\n",
       "              enable_categorical=False, gamma=0.6, gpu_id=-1,\n",
       "              importance_type=None, interaction_constraints='', lambda=0.6,\n",
       "              learning_rate=0.18500000000000003, max_delta_step=0, max_depth=6,\n",
       "              min_child_weight=1, missing=nan, monotone_constraints='()',\n",
       "              n_estimators=50, n_jobs=8, num_parallel_tree=1, predictor='auto',\n",
       "              random_state=0, reg_alpha=0.699999988, reg_lambda=0.600000024,\n",
       "              scale_pos_weight=1, subsample=1, tree_method='exact',\n",
       "              validate_parameters=1, verbosity=None)"
      ]
     },
     "execution_count": 48,
     "metadata": {},
     "output_type": "execute_result"
    }
   ],
   "source": [
    "nb_t = GaussianNB(**gs_NB.best_params_)\n",
    "nb_t.fit(X_train, y_train)\n",
    "knn_t = KNeighborsClassifier(n_neighbors=knn_best_k)\n",
    "knn_t.fit(X_train, y_train)\n",
    "svm_t = SVC(**svc_g.best_params_)\n",
    "svm_t.fit(X_train, y_train)\n",
    "xgb_t = xgb.XGBClassifier(**xgb_c_t.best_params_)\n",
    "xgb_t.fit(X_train, y_train)"
   ]
  },
  {
   "cell_type": "code",
   "execution_count": 49,
   "id": "empty-sweden",
   "metadata": {},
   "outputs": [
    {
     "data": {
      "text/plain": [
       "Text(0.5, 1.0, 'AUC without hyperparameter tuning')"
      ]
     },
     "execution_count": 49,
     "metadata": {},
     "output_type": "execute_result"
    },
    {
     "data": {
      "image/png": "[encoded data removed]",
      "text/plain": [
       "<Figure size 432x288 with 1 Axes>"
      ]
     },
     "metadata": {
      "needs_background": "light"
     },
     "output_type": "display_data"
    },
    {
     "data": {
      "image/png": "[encoded data removed]",
      "text/plain": [
       "<Figure size 432x288 with 1 Axes>"
      ]
     },
     "metadata": {
      "needs_background": "light"
     },
     "output_type": "display_data"
    }
   ],
   "source": [
    "roc_t = plot_roc_curve(lr, X_test, y_test)\n",
    "plot_roc_curve(knn_t, X_test, y_test, ax = roc_t.ax_)\n",
    "plot_roc_curve(nb_t, X_test, y_test, ax = roc_t.ax_)\n",
    "plot_roc_curve(svm_t, X_test, y_test, ax = roc_t.ax_)\n",
    "plot_roc_curve(xgb_t, X_test, y_test, ax = roc_t.ax_)\n",
    "plt.title('Hyperparameter tuned AUC')\n",
    "roc = plot_roc_curve(lr, X_test, y_test)\n",
    "plot_roc_curve(knn, X_test, y_test, ax = roc.ax_)\n",
    "plot_roc_curve(nb, X_test, y_test, ax = roc.ax_)\n",
    "plot_roc_curve(svm, X_test, y_test, ax = roc.ax_)\n",
    "plot_roc_curve(xgb_c, X_test, y_test, ax = roc.ax_)\n",
    "plt.title('AUC without hyperparameter tuning')"
   ]
  },
  {
   "cell_type": "markdown",
   "id": "lined-assets",
   "metadata": {},
   "source": [
    "Diving into the figures, one can see that the models performed better after hyperparameter tuning. "
   ]
  },
  {
   "cell_type": "code",
   "execution_count": 50,
   "id": "structural-suspension",
   "metadata": {},
   "outputs": [
    {
     "data": {
      "text/plain": [
       "{'n_estimators': 50,\n",
       " 'max_depth': 6,\n",
       " 'learning_rate': 0.18500000000000003,\n",
       " 'lambda': 0.6,\n",
       " 'gamma': 0.6,\n",
       " 'colsample_bytree': 0.5,\n",
       " 'alpha': 0.7000000000000001}"
      ]
     },
     "execution_count": 50,
     "metadata": {},
     "output_type": "execute_result"
    }
   ],
   "source": [
    "xgb_c_t.best_params_"
   ]
  },
  {
   "cell_type": "markdown",
   "id": "neither-feeling",
   "metadata": {},
   "source": [
    "The only model that performed worse was xgboost. "
   ]
  },
  {
   "cell_type": "markdown",
   "id": "refined-covering",
   "metadata": {},
   "source": [
    "Addressing the overfitting problem"
   ]
  },
  {
   "cell_type": "code",
   "execution_count": 51,
   "id": "established-aging",
   "metadata": {},
   "outputs": [],
   "source": [
    "xgb_of_params = {\n",
    " 'n_estimators': 50,\n",
    " 'max_depth': 3,\n",
    " 'learning_rate': 0.025,\n",
    " 'lambda': 0.75,\n",
    " 'gamma': 0.75,\n",
    " 'colsample_bytree': 0.5,\n",
    " 'alpha': 0.7000000000000001\n",
    "}"
   ]
  },
  {
   "cell_type": "code",
   "execution_count": 54,
   "id": "religious-terry",
   "metadata": {},
   "outputs": [
    {
     "name": "stdout",
     "output_type": "stream",
     "text": [
      "[15:56:38] WARNING: /Users/runner/work/xgboost/xgboost/src/learner.cc:1115: Starting in XGBoost 1.3.0, the default evaluation metric used with the objective 'binary:logistic' was changed from 'error' to 'logloss'. Explicitly set eval_metric if you'd like to restore the old behavior.\n"
     ]
    },
    {
     "name": "stderr",
     "output_type": "stream",
     "text": [
      "/Users/jakubzmujdzin/opt/miniconda3/lib/python3.8/site-packages/xgboost/sklearn.py:1224: UserWarning:\n",
      "\n",
      "The use of label encoder in XGBClassifier is deprecated and will be removed in a future release. To remove this warning, do the following: 1) Pass option use_label_encoder=False when constructing XGBClassifier object; and 2) Encode your labels (y) as integers starting with 0, i.e. 0, 1, 2, ..., [num_class - 1].\n",
      "\n"
     ]
    },
    {
     "data": {
      "text/plain": [
       "XGBClassifier(alpha=0.7000000000000001, base_score=0.5, booster='gbtree',\n",
       "              colsample_bylevel=1, colsample_bynode=1, colsample_bytree=0.5,\n",
       "              enable_categorical=False, gamma=0.75, gpu_id=-1,\n",
       "              importance_type=None, interaction_constraints='', lambda=0.75,\n",
       "              learning_rate=0.025, max_delta_step=0, max_depth=3,\n",
       "              min_child_weight=1, missing=nan, monotone_constraints='()',\n",
       "              n_estimators=50, n_jobs=8, num_parallel_tree=1, predictor='auto',\n",
       "              random_state=0, reg_alpha=0.699999988, reg_lambda=0.75,\n",
       "              scale_pos_weight=1, subsample=1, tree_method='exact',\n",
       "              validate_parameters=1, verbosity=None)"
      ]
     },
     "execution_count": 54,
     "metadata": {},
     "output_type": "execute_result"
    }
   ],
   "source": [
    "xgb_c_of = xgb.XGBClassifier(**xgb_of_params)\n",
    "xgb_c_of.fit(X_train, y_train)"
   ]
  },
  {
   "cell_type": "code",
   "execution_count": 56,
   "id": "appointed-juice",
   "metadata": {},
   "outputs": [
    {
     "data": {
      "text/plain": [
       "<sklearn.metrics._plot.roc_curve.RocCurveDisplay at 0x7fa12eec5520>"
      ]
     },
     "execution_count": 56,
     "metadata": {},
     "output_type": "execute_result"
    },
    {
     "data": {
      "image/png": "[encoded data removed]",
      "text/plain": [
       "<Figure size 432x288 with 1 Axes>"
      ]
     },
     "metadata": {
      "needs_background": "light"
     },
     "output_type": "display_data"
    }
   ],
   "source": [
    "roc_of = plot_roc_curve(xgb_t, X_test, y_test, name='hyperparameter tuned')\n",
    "plot_roc_curve(xgb_c, X_test, y_test, ax = roc_of.ax_, name='default xgb')\n",
    "plot_roc_curve(xgb_c_of, X_test, y_test, ax = roc_of.ax_, name='xgb properly tuned')"
   ]
  },
  {
   "cell_type": "markdown",
   "id": "given-console",
   "metadata": {},
   "source": [
    "With proper hyperparameter tuning (decreasing tree depth, increasing parameters that penalize for overfitting) XGBoost achieved AUC of 0.99, highest score of all used models."
   ]
  },
  {
   "cell_type": "code",
   "execution_count": 57,
   "id": "documented-broadcast",
   "metadata": {},
   "outputs": [
    {
     "name": "stdout",
     "output_type": "stream",
     "text": [
      "Preparation of a new explainer is initiated\n",
      "\n",
      "  -> data              : 272 rows 8 cols\n",
      "  -> target variable   : 272 values\n",
      "  -> model_class       : xgboost.sklearn.XGBClassifier (default)\n",
      "  -> label             : Not specified, model's class short name will be used. (default)\n",
      "  -> predict function  : <function yhat_proba_default at 0x7fa147545ca0> will be used (default)\n",
      "  -> predict function  : Accepts pandas.DataFrame and numpy.ndarray.\n",
      "  -> predicted values  : min = 0.152, mean = 0.153, max = 0.187\n",
      "  -> model type        : classification will be used (default)\n",
      "  -> residual function : difference between y and yhat (default)\n",
      "  -> residuals         : min = -0.187, mean = -0.142, max = 0.819\n",
      "  -> model_info        : package xgboost\n",
      "\n",
      "A new explainer has been created!\n"
     ]
    }
   ],
   "source": [
    "exp = dx.Explainer(xgb_c_of, X_test, y_test)"
   ]
  },
  {
   "cell_type": "code",
   "execution_count": 66,
   "id": "white-marina",
   "metadata": {},
   "outputs": [
    {
     "data": {
      "application/vnd.plotly.v1+json": {
       "config": {
        "displaylogo": false,
        "modeBarButtonsToRemove": [
         "sendDataToCloud",
         "lasso2d",
         "autoScale2d",
         "select2d",
         "zoom2d",
         "pan2d",
         "zoomIn2d",
         "zoomOut2d",
         "resetScale2d",
         "toggleSpikelines",
         "hoverCompareCartesian",
         "hoverClosestCartesian"
        ],
        "plotlyServerURL": "https://plot.ly",
        "staticPlot": false,
        "toImageButtonOptions": {
         "height": null,
         "width": null
        }
       },
       "data": [
        {
         "base": 0.15282806754112244,
         "connector": {
          "line": {
           "color": "#371ea3",
           "dash": "solid",
           "width": 1
          },
          "mode": "spanning"
         },
         "decreasing": {
          "marker": {
           "color": "#f05a71"
          }
         },
         "hoverinfo": "text+delta",
         "hoverlabel": {
          "bgcolor": "rgba(0,0,0,0.8)"
         },
         "hovertext": [
          "Average response: 0.153<br>Prediction: 0.152",
          "alcohol = 10.7<br>decreases average response by",
          "sulphates = 0.63<br>decreases average response by",
          "residual sugar = 1.7<br>decreases average response by",
          "total sulfur dioxide:fixed acidity = 12.0<br>decreases average response by",
          "chlorides:volatile acidity = 0.079<br>decreases average response by",
          "free sulfur dioxide = 6.0<br>decreases average response by",
          "Average response: 0.153<br>Prediction: 0.152"
         ],
         "increasing": {
          "marker": {
           "color": "#8bdcbe"
          }
         },
         "measure": [
          "relative",
          "relative",
          "relative",
          "relative",
          "relative",
          "relative",
          "relative",
          "total"
         ],
         "orientation": "h",
         "showlegend": false,
         "text": [
          "0.153",
          "-0.001",
          "0.0",
          "0.0",
          "0.0",
          "0.0",
          "0.0",
          "0.152"
         ],
         "textposition": "outside",
         "totals": {
          "marker": {
           "color": "#371ea3"
          }
         },
         "type": "waterfall",
         "x": [
          0,
          -0.0010000000474974513,
          0,
          0,
          0,
          0,
          0,
          -0.0010000000474974513
         ],
         "xaxis": "x",
         "y": [
          "intercept",
          "alcohol = 10.7",
          "sulphates = 0.63",
          "residual sugar = 1.7",
          "total sulfur dioxide:fixed acidity = 12.0",
          "chlorides:volatile acidity = 0.079",
          "free sulfur dioxide = 6.0",
          "prediction"
         ],
         "yaxis": "y"
        }
       ],
       "layout": {
        "annotations": [
         {
          "font": {
           "size": 16
          },
          "showarrow": false,
          "text": "XGBClassifier",
          "x": 0.5,
          "xanchor": "center",
          "xref": "paper",
          "y": 1,
          "yanchor": "bottom",
          "yref": "paper"
         },
         {
          "font": {
           "size": 16
          },
          "showarrow": false,
          "text": "contribution",
          "x": 0.5,
          "xanchor": "center",
          "xref": "paper",
          "y": 0,
          "yanchor": "top",
          "yref": "paper",
          "yshift": -30
         }
        ],
        "font": {
         "color": "#371ea3"
        },
        "height": 313,
        "margin": {
         "b": 71,
         "r": 30,
         "t": 78
        },
        "shapes": [
         {
          "line": {
           "color": "#371ea3",
           "dash": "dot",
           "width": 1.5
          },
          "type": "line",
          "x0": 0.15282806754112244,
          "x1": 0.15282806754112244,
          "xref": "x",
          "y0": -1,
          "y1": 8,
          "yref": "y"
         }
        ],
        "template": {
         "data": {
          "scatter": [
           {
            "type": "scatter"
           }
          ]
         }
        },
        "title": {
         "text": "Break Down",
         "x": 0.15
        },
        "xaxis": {
         "anchor": "y",
         "automargin": true,
         "domain": [
          0,
          1
         ],
         "fixedrange": true,
         "gridwidth": 2,
         "range": [
          0.15184999480843545,
          0.15314999744296073
         ],
         "tickcolor": "white",
         "ticklen": 3,
         "ticks": "outside",
         "type": "linear",
         "zeroline": false
        },
        "yaxis": {
         "anchor": "x",
         "automargin": true,
         "autorange": "reversed",
         "domain": [
          0,
          1
         ],
         "fixedrange": true,
         "gridwidth": 2,
         "tickcolor": "white",
         "ticklen": 10,
         "ticks": "outside",
         "type": "category"
        }
       }
      },
      "text/html": [
       "<div>                            <div id=\"1db98ad8-b392-4fdb-a070-3441e39e7711\" class=\"plotly-graph-div\" style=\"height:313.0px; width:100%;\"></div>            <script type=\"text/javascript\">                require([\"plotly\"], function(Plotly) {                    window.PLOTLYENV=window.PLOTLYENV || {};                                    if (document.getElementById(\"1db98ad8-b392-4fdb-a070-3441e39e7711\")) {                    Plotly.newPlot(                        \"1db98ad8-b392-4fdb-a070-3441e39e7711\",                        [{\"base\":0.15282806754112244,\"connector\":{\"line\":{\"color\":\"#371ea3\",\"dash\":\"solid\",\"width\":1},\"mode\":\"spanning\"},\"decreasing\":{\"marker\":{\"color\":\"#f05a71\"}},\"hoverinfo\":\"text+delta\",\"hoverlabel\":{\"bgcolor\":\"rgba(0,0,0,0.8)\"},\"hovertext\":[\"Average response: 0.153<br>Prediction: 0.152\",\"alcohol = 10.7<br>decreases average response by\",\"sulphates = 0.63<br>decreases average response by\",\"residual sugar = 1.7<br>decreases average response by\",\"total sulfur dioxide:fixed acidity = 12.0<br>decreases average response by\",\"chlorides:volatile acidity = 0.079<br>decreases average response by\",\"free sulfur dioxide = 6.0<br>decreases average response by\",\"Average response: 0.153<br>Prediction: 0.152\"],\"increasing\":{\"marker\":{\"color\":\"#8bdcbe\"}},\"measure\":[\"relative\",\"relative\",\"relative\",\"relative\",\"relative\",\"relative\",\"relative\",\"total\"],\"orientation\":\"h\",\"showlegend\":false,\"text\":[\"0.153\",\"-0.001\",\"0.0\",\"0.0\",\"0.0\",\"0.0\",\"0.0\",\"0.152\"],\"textposition\":\"outside\",\"totals\":{\"marker\":{\"color\":\"#371ea3\"}},\"x\":[0.0,-0.0010000000474974513,0.0,0.0,0.0,0.0,0.0,-0.0010000000474974513],\"y\":[\"intercept\",\"alcohol = 10.7\",\"sulphates = 0.63\",\"residual sugar = 1.7\",\"total sulfur dioxide:fixed acidity = 12.0\",\"chlorides:volatile acidity = 0.079\",\"free sulfur dioxide = 6.0\",\"prediction\"],\"type\":\"waterfall\",\"xaxis\":\"x\",\"yaxis\":\"y\"}],                        {\"template\":{\"data\":{\"scatter\":[{\"type\":\"scatter\"}]}},\"xaxis\":{\"anchor\":\"y\",\"domain\":[0.0,1.0],\"type\":\"linear\",\"gridwidth\":2,\"zeroline\":false,\"automargin\":true,\"ticks\":\"outside\",\"tickcolor\":\"white\",\"ticklen\":3,\"fixedrange\":true,\"range\":[0.15184999480843545,0.15314999744296073]},\"yaxis\":{\"anchor\":\"x\",\"domain\":[0.0,1.0],\"type\":\"category\",\"autorange\":\"reversed\",\"gridwidth\":2,\"automargin\":true,\"ticks\":\"outside\",\"tickcolor\":\"white\",\"ticklen\":10,\"fixedrange\":true},\"annotations\":[{\"font\":{\"size\":16},\"showarrow\":false,\"text\":\"XGBClassifier\",\"x\":0.5,\"xanchor\":\"center\",\"xref\":\"paper\",\"y\":1.0,\"yanchor\":\"bottom\",\"yref\":\"paper\"},{\"font\":{\"size\":16},\"showarrow\":false,\"text\":\"contribution\",\"x\":0.5,\"xanchor\":\"center\",\"xref\":\"paper\",\"y\":0,\"yanchor\":\"top\",\"yref\":\"paper\",\"yshift\":-30}],\"shapes\":[{\"line\":{\"color\":\"#371ea3\",\"dash\":\"dot\",\"width\":1.5},\"type\":\"line\",\"x0\":0.15282806754112244,\"x1\":0.15282806754112244,\"xref\":\"x\",\"y0\":-1,\"y1\":8,\"yref\":\"y\"}],\"title\":{\"text\":\"Break Down\",\"x\":0.15},\"font\":{\"color\":\"#371ea3\"},\"margin\":{\"t\":78,\"b\":71,\"r\":30},\"height\":313.0},                        {\"displaylogo\": false, \"staticPlot\": false, \"toImageButtonOptions\": {\"height\": null, \"width\": null}, \"modeBarButtonsToRemove\": [\"sendDataToCloud\", \"lasso2d\", \"autoScale2d\", \"select2d\", \"zoom2d\", \"pan2d\", \"zoomIn2d\", \"zoomOut2d\", \"resetScale2d\", \"toggleSpikelines\", \"hoverCompareCartesian\", \"hoverClosestCartesian\"], \"responsive\": true}                    ).then(function(){\n",
       "                            \n",
       "var gd = document.getElementById('1db98ad8-b392-4fdb-a070-3441e39e7711');\n",
       "var x = new MutationObserver(function (mutations, observer) {{\n",
       "        var display = window.getComputedStyle(gd).display;\n",
       "        if (!display || display === 'none') {{\n",
       "            console.log([gd, 'removed!']);\n",
       "            Plotly.purge(gd);\n",
       "            observer.disconnect();\n",
       "        }}\n",
       "}});\n",
       "\n",
       "// Listen for the removal of the full notebook cells\n",
       "var notebookContainer = gd.closest('#notebook-container');\n",
       "if (notebookContainer) {{\n",
       "    x.observe(notebookContainer, {childList: true});\n",
       "}}\n",
       "\n",
       "// Listen for the clearing of the current output cell\n",
       "var outputEl = gd.closest('.output');\n",
       "if (outputEl) {{\n",
       "    x.observe(outputEl, {childList: true});\n",
       "}}\n",
       "\n",
       "                        })                };                });            </script>        </div>"
      ]
     },
     "metadata": {},
     "output_type": "display_data"
    }
   ],
   "source": [
    "exp.predict_parts(X_test.iloc[17, :]).plot()"
   ]
  },
  {
   "cell_type": "markdown",
   "id": "brutal-avatar",
   "metadata": {},
   "source": [
    "It turns out that wines with higher than average alcohol volume, higher than average sulphates count, tend to be better wines"
   ]
  },
  {
   "cell_type": "code",
   "execution_count": 59,
   "id": "historic-crawford",
   "metadata": {},
   "outputs": [
    {
     "name": "stderr",
     "output_type": "stream",
     "text": [
      "Calculating ceteris paribus: 100%|██████████| 1/1 [00:00<00:00, 59.97it/s]\n"
     ]
    },
    {
     "data": {
      "application/vnd.plotly.v1+json": {
       "config": {
        "displaylogo": false,
        "modeBarButtonsToRemove": [
         "sendDataToCloud",
         "lasso2d",
         "autoScale2d",
         "select2d",
         "zoom2d",
         "pan2d",
         "zoomIn2d",
         "zoomOut2d",
         "resetScale2d",
         "toggleSpikelines",
         "hoverCompareCartesian",
         "hoverClosestCartesian"
        ],
        "plotlyServerURL": "https://plot.ly",
        "staticPlot": false,
        "toImageButtonOptions": {
         "height": null,
         "width": null
        }
       },
       "data": [
        {
         "customdata": [
          [
           0.15282805263996124,
           "XGBClassifier",
           "alcohol"
          ],
          [
           0.15282805263996124,
           "XGBClassifier",
           "alcohol"
          ],
          [
           0.15282805263996124,
           "XGBClassifier",
           "alcohol"
          ],
          [
           0.15282805263996124,
           "XGBClassifier",
           "alcohol"
          ],
          [
           0.15282805263996124,
           "XGBClassifier",
           "alcohol"
          ],
          [
           0.15282805263996124,
           "XGBClassifier",
           "alcohol"
          ],
          [
           0.15282805263996124,
           "XGBClassifier",
           "alcohol"
          ],
          [
           0.15282805263996124,
           "XGBClassifier",
           "alcohol"
          ],
          [
           0.15282805263996124,
           "XGBClassifier",
           "alcohol"
          ],
          [
           0.15282805263996124,
           "XGBClassifier",
           "alcohol"
          ],
          [
           0.15282805263996124,
           "XGBClassifier",
           "alcohol"
          ],
          [
           0.15282805263996124,
           "XGBClassifier",
           "alcohol"
          ],
          [
           0.15282805263996124,
           "XGBClassifier",
           "alcohol"
          ],
          [
           0.15282805263996124,
           "XGBClassifier",
           "alcohol"
          ],
          [
           0.15282805263996124,
           "XGBClassifier",
           "alcohol"
          ],
          [
           0.15282805263996124,
           "XGBClassifier",
           "alcohol"
          ],
          [
           0.15282805263996124,
           "XGBClassifier",
           "alcohol"
          ],
          [
           0.15282805263996124,
           "XGBClassifier",
           "alcohol"
          ],
          [
           0.15282805263996124,
           "XGBClassifier",
           "alcohol"
          ],
          [
           0.15282805263996124,
           "XGBClassifier",
           "alcohol"
          ],
          [
           0.15282805263996124,
           "XGBClassifier",
           "alcohol"
          ],
          [
           0.15282805263996124,
           "XGBClassifier",
           "alcohol"
          ],
          [
           0.15282805263996124,
           "XGBClassifier",
           "alcohol"
          ],
          [
           0.15282805263996124,
           "XGBClassifier",
           "alcohol"
          ],
          [
           0.15282805263996124,
           "XGBClassifier",
           "alcohol"
          ],
          [
           0.15282805263996124,
           "XGBClassifier",
           "alcohol"
          ],
          [
           0.15282805263996124,
           "XGBClassifier",
           "alcohol"
          ],
          [
           0.15282805263996124,
           "XGBClassifier",
           "alcohol"
          ],
          [
           0.15282805263996124,
           "XGBClassifier",
           "alcohol"
          ],
          [
           0.15282805263996124,
           "XGBClassifier",
           "alcohol"
          ],
          [
           0.15282805263996124,
           "XGBClassifier",
           "alcohol"
          ],
          [
           0.15282805263996124,
           "XGBClassifier",
           "alcohol"
          ],
          [
           0.15282805263996124,
           "XGBClassifier",
           "alcohol"
          ],
          [
           0.15282805263996124,
           "XGBClassifier",
           "alcohol"
          ],
          [
           0.15282805263996124,
           "XGBClassifier",
           "alcohol"
          ],
          [
           0.15282805263996124,
           "XGBClassifier",
           "alcohol"
          ],
          [
           0.15282805263996124,
           "XGBClassifier",
           "alcohol"
          ],
          [
           0.15282805263996124,
           "XGBClassifier",
           "alcohol"
          ],
          [
           0.15282805263996124,
           "XGBClassifier",
           "alcohol"
          ],
          [
           0.15282805263996124,
           "XGBClassifier",
           "alcohol"
          ],
          [
           0.15282805263996124,
           "XGBClassifier",
           "alcohol"
          ],
          [
           0.15282805263996124,
           "XGBClassifier",
           "alcohol"
          ],
          [
           0.15282805263996124,
           "XGBClassifier",
           "alcohol"
          ],
          [
           0.15282805263996124,
           "XGBClassifier",
           "alcohol"
          ],
          [
           0.15282805263996124,
           "XGBClassifier",
           "alcohol"
          ],
          [
           0.15282805263996124,
           "XGBClassifier",
           "alcohol"
          ],
          [
           0.15282805263996124,
           "XGBClassifier",
           "alcohol"
          ],
          [
           0.15282805263996124,
           "XGBClassifier",
           "alcohol"
          ],
          [
           0.15282805263996124,
           "XGBClassifier",
           "alcohol"
          ],
          [
           0.15282805263996124,
           "XGBClassifier",
           "alcohol"
          ],
          [
           0.15282805263996124,
           "XGBClassifier",
           "alcohol"
          ],
          [
           0.15282805263996124,
           "XGBClassifier",
           "alcohol"
          ],
          [
           0.15282805263996124,
           "XGBClassifier",
           "alcohol"
          ],
          [
           0.15282805263996124,
           "XGBClassifier",
           "alcohol"
          ],
          [
           0.15282805263996124,
           "XGBClassifier",
           "alcohol"
          ],
          [
           0.15282805263996124,
           "XGBClassifier",
           "alcohol"
          ],
          [
           0.15282805263996124,
           "XGBClassifier",
           "alcohol"
          ],
          [
           0.15282805263996124,
           "XGBClassifier",
           "alcohol"
          ],
          [
           0.15282805263996124,
           "XGBClassifier",
           "alcohol"
          ],
          [
           0.15282805263996124,
           "XGBClassifier",
           "alcohol"
          ],
          [
           0.15282805263996124,
           "XGBClassifier",
           "alcohol"
          ],
          [
           0.15282805263996124,
           "XGBClassifier",
           "alcohol"
          ],
          [
           0.15282805263996124,
           "XGBClassifier",
           "alcohol"
          ],
          [
           0.15282805263996124,
           "XGBClassifier",
           "alcohol"
          ],
          [
           0.15282805263996124,
           "XGBClassifier",
           "alcohol"
          ],
          [
           0.15282805263996124,
           "XGBClassifier",
           "alcohol"
          ],
          [
           0.15282805263996124,
           "XGBClassifier",
           "alcohol"
          ],
          [
           0.15282805263996124,
           "XGBClassifier",
           "alcohol"
          ],
          [
           0.15282805263996124,
           "XGBClassifier",
           "alcohol"
          ],
          [
           0.15282805263996124,
           "XGBClassifier",
           "alcohol"
          ],
          [
           0.15282805263996124,
           "XGBClassifier",
           "alcohol"
          ],
          [
           0.15282805263996124,
           "XGBClassifier",
           "alcohol"
          ],
          [
           0.15282805263996124,
           "XGBClassifier",
           "alcohol"
          ],
          [
           0.15282805263996124,
           "XGBClassifier",
           "alcohol"
          ],
          [
           0.15282805263996124,
           "XGBClassifier",
           "alcohol"
          ],
          [
           0.15282805263996124,
           "XGBClassifier",
           "alcohol"
          ],
          [
           0.15282805263996124,
           "XGBClassifier",
           "alcohol"
          ],
          [
           0.15282805263996124,
           "XGBClassifier",
           "alcohol"
          ],
          [
           0.15282805263996124,
           "XGBClassifier",
           "alcohol"
          ],
          [
           0.15282805263996124,
           "XGBClassifier",
           "alcohol"
          ],
          [
           0.15282805263996124,
           "XGBClassifier",
           "alcohol"
          ],
          [
           0.15282805263996124,
           "XGBClassifier",
           "alcohol"
          ],
          [
           0.15282805263996124,
           "XGBClassifier",
           "alcohol"
          ],
          [
           0.15282805263996124,
           "XGBClassifier",
           "alcohol"
          ],
          [
           0.15282805263996124,
           "XGBClassifier",
           "alcohol"
          ],
          [
           0.15282805263996124,
           "XGBClassifier",
           "alcohol"
          ],
          [
           0.15282805263996124,
           "XGBClassifier",
           "alcohol"
          ],
          [
           0.15282805263996124,
           "XGBClassifier",
           "alcohol"
          ],
          [
           0.15282805263996124,
           "XGBClassifier",
           "alcohol"
          ],
          [
           0.15282805263996124,
           "XGBClassifier",
           "alcohol"
          ],
          [
           0.15282805263996124,
           "XGBClassifier",
           "alcohol"
          ],
          [
           0.15282805263996124,
           "XGBClassifier",
           "alcohol"
          ],
          [
           0.15282805263996124,
           "XGBClassifier",
           "alcohol"
          ],
          [
           0.15282805263996124,
           "XGBClassifier",
           "alcohol"
          ],
          [
           0.15282805263996124,
           "XGBClassifier",
           "alcohol"
          ],
          [
           0.15282805263996124,
           "XGBClassifier",
           "alcohol"
          ],
          [
           0.15282805263996124,
           "XGBClassifier",
           "alcohol"
          ],
          [
           0.15282805263996124,
           "XGBClassifier",
           "alcohol"
          ],
          [
           0.15282805263996124,
           "XGBClassifier",
           "alcohol"
          ],
          [
           0.15282805263996124,
           "XGBClassifier",
           "alcohol"
          ],
          [
           0.15282805263996124,
           "XGBClassifier",
           "alcohol"
          ]
         ],
         "hovertemplate": "<b>%{hovertext}</b><br><br>prediction=%{y:.3f}<br>mean_prediction=%{customdata[0]:.3f}<extra></extra>",
         "hovertext": [
          "XGBClassifier",
          "XGBClassifier",
          "XGBClassifier",
          "XGBClassifier",
          "XGBClassifier",
          "XGBClassifier",
          "XGBClassifier",
          "XGBClassifier",
          "XGBClassifier",
          "XGBClassifier",
          "XGBClassifier",
          "XGBClassifier",
          "XGBClassifier",
          "XGBClassifier",
          "XGBClassifier",
          "XGBClassifier",
          "XGBClassifier",
          "XGBClassifier",
          "XGBClassifier",
          "XGBClassifier",
          "XGBClassifier",
          "XGBClassifier",
          "XGBClassifier",
          "XGBClassifier",
          "XGBClassifier",
          "XGBClassifier",
          "XGBClassifier",
          "XGBClassifier",
          "XGBClassifier",
          "XGBClassifier",
          "XGBClassifier",
          "XGBClassifier",
          "XGBClassifier",
          "XGBClassifier",
          "XGBClassifier",
          "XGBClassifier",
          "XGBClassifier",
          "XGBClassifier",
          "XGBClassifier",
          "XGBClassifier",
          "XGBClassifier",
          "XGBClassifier",
          "XGBClassifier",
          "XGBClassifier",
          "XGBClassifier",
          "XGBClassifier",
          "XGBClassifier",
          "XGBClassifier",
          "XGBClassifier",
          "XGBClassifier",
          "XGBClassifier",
          "XGBClassifier",
          "XGBClassifier",
          "XGBClassifier",
          "XGBClassifier",
          "XGBClassifier",
          "XGBClassifier",
          "XGBClassifier",
          "XGBClassifier",
          "XGBClassifier",
          "XGBClassifier",
          "XGBClassifier",
          "XGBClassifier",
          "XGBClassifier",
          "XGBClassifier",
          "XGBClassifier",
          "XGBClassifier",
          "XGBClassifier",
          "XGBClassifier",
          "XGBClassifier",
          "XGBClassifier",
          "XGBClassifier",
          "XGBClassifier",
          "XGBClassifier",
          "XGBClassifier",
          "XGBClassifier",
          "XGBClassifier",
          "XGBClassifier",
          "XGBClassifier",
          "XGBClassifier",
          "XGBClassifier",
          "XGBClassifier",
          "XGBClassifier",
          "XGBClassifier",
          "XGBClassifier",
          "XGBClassifier",
          "XGBClassifier",
          "XGBClassifier",
          "XGBClassifier",
          "XGBClassifier",
          "XGBClassifier",
          "XGBClassifier",
          "XGBClassifier",
          "XGBClassifier",
          "XGBClassifier",
          "XGBClassifier",
          "XGBClassifier",
          "XGBClassifier",
          "XGBClassifier",
          "XGBClassifier",
          "XGBClassifier"
         ],
         "legendgroup": "XGBClassifier",
         "line": {
          "color": "#46bac2",
          "dash": "solid",
          "width": 2
         },
         "marker": {
          "symbol": "circle"
         },
         "mode": "lines",
         "name": "XGBClassifier",
         "opacity": 1,
         "orientation": "v",
         "showlegend": true,
         "type": "scatter",
         "x": [
          8.4,
          8.456,
          8.512,
          8.568,
          8.624,
          8.68,
          8.736,
          8.792,
          8.848,
          8.904,
          8.96,
          9.016,
          9.072000000000001,
          9.128,
          9.184000000000001,
          9.24,
          9.296,
          9.352,
          9.408000000000001,
          9.464,
          9.52,
          9.576,
          9.632,
          9.688,
          9.744,
          9.8,
          9.856,
          9.912,
          9.968,
          10.024000000000001,
          10.08,
          10.136,
          10.192,
          10.248000000000001,
          10.304,
          10.36,
          10.416,
          10.472,
          10.528,
          10.584,
          10.64,
          10.696,
          10.752,
          10.808,
          10.864,
          10.92,
          10.975999999999999,
          11.032,
          11.088000000000001,
          11.144,
          11.2,
          11.256,
          11.312000000000001,
          11.368,
          11.424,
          11.48,
          11.536,
          11.592,
          11.648,
          11.704,
          11.76,
          11.815999999999999,
          11.872,
          11.928,
          11.984,
          12.04,
          12.096,
          12.152000000000001,
          12.208,
          12.264,
          12.32,
          12.376,
          12.432,
          12.488,
          12.544,
          12.6,
          12.655999999999999,
          12.712,
          12.768,
          12.824,
          12.879999999999999,
          12.936,
          12.992,
          13.048,
          13.104,
          13.16,
          13.216000000000001,
          13.272,
          13.328,
          13.384,
          13.44,
          13.495999999999999,
          13.552,
          13.608,
          13.664,
          13.719999999999999,
          13.776,
          13.832,
          13.888,
          13.943999999999999,
          14
         ],
         "xaxis": "x",
         "y": [
          0.15154464542865753,
          0.15154464542865753,
          0.15154464542865753,
          0.15154464542865753,
          0.15154464542865753,
          0.15154464542865753,
          0.15154464542865753,
          0.15154464542865753,
          0.15154464542865753,
          0.15154464542865753,
          0.15154464542865753,
          0.15154464542865753,
          0.15154464542865753,
          0.15154464542865753,
          0.15154464542865753,
          0.15154464542865753,
          0.15154464542865753,
          0.15154464542865753,
          0.15154464542865753,
          0.15154464542865753,
          0.15154464542865753,
          0.15154464542865753,
          0.15154464542865753,
          0.15154464542865753,
          0.15154464542865753,
          0.15154464542865753,
          0.15154464542865753,
          0.15154464542865753,
          0.15154464542865753,
          0.15154464542865753,
          0.15154464542865753,
          0.15154464542865753,
          0.15154464542865753,
          0.15154464542865753,
          0.15154464542865753,
          0.15154464542865753,
          0.15154464542865753,
          0.15154464542865753,
          0.15154464542865753,
          0.15154464542865753,
          0.15154464542865753,
          0.15154464542865753,
          0.15154464542865753,
          0.15154464542865753,
          0.15154464542865753,
          0.15154464542865753,
          0.15154464542865753,
          0.15154464542865753,
          0.15154464542865753,
          0.15154464542865753,
          0.15154464542865753,
          0.15154464542865753,
          0.15154464542865753,
          0.15154464542865753,
          0.15154464542865753,
          0.15154464542865753,
          0.15154464542865753,
          0.15154464542865753,
          0.15154464542865753,
          0.15154464542865753,
          0.15154464542865753,
          0.15154464542865753,
          0.15154464542865753,
          0.15154464542865753,
          0.15154464542865753,
          0.15154464542865753,
          0.15154464542865753,
          0.15154464542865753,
          0.15154464542865753,
          0.15154464542865753,
          0.15154464542865753,
          0.15154464542865753,
          0.15154464542865753,
          0.15318885445594788,
          0.15318885445594788,
          0.1743866205215454,
          0.1743866205215454,
          0.1743866205215454,
          0.1743866205215454,
          0.1743866205215454,
          0.1743866205215454,
          0.1743866205215454,
          0.17385333776474,
          0.17385333776474,
          0.17385333776474,
          0.17385333776474,
          0.17385333776474,
          0.17385333776474,
          0.17385333776474,
          0.17385333776474,
          0.17385333776474,
          0.17385333776474,
          0.17385333776474,
          0.17385333776474,
          0.17385333776474,
          0.17385333776474,
          0.17385333776474,
          0.17385333776474,
          0.17385333776474,
          0.17385333776474,
          0.17385333776474
         ],
         "yaxis": "y"
        }
       ],
       "layout": {
        "annotations": [
         {
          "font": {
           "size": 13
          },
          "showarrow": false,
          "text": "alcohol",
          "x": 0.5,
          "xanchor": "center",
          "xref": "paper",
          "y": 1,
          "yanchor": "bottom",
          "yref": "paper"
         },
         {
          "font": {
           "size": 13
          },
          "showarrow": false,
          "text": "prediction",
          "textangle": -90,
          "x": -0.07,
          "xref": "paper",
          "y": 0.5,
          "yref": "paper"
         }
        ],
        "font": {
         "color": "#371ea3"
        },
        "height": 489,
        "hovermode": "x unified",
        "legend": {
         "font": {
          "size": 11
         },
         "itemsizing": "constant",
         "orientation": "h",
         "title": {
          "font": {
           "size": 12
          },
          "text": "label"
         },
         "tracegroupgap": 0,
         "x": 1,
         "xanchor": "right",
         "y": 1.0613496932515338,
         "yanchor": "bottom"
        },
        "margin": {
         "b": 71,
         "r": 30,
         "t": 78
        },
        "template": {
         "data": {
          "scatter": [
           {
            "type": "scatter"
           }
          ]
         }
        },
        "title": {
         "font": {
          "size": 16
         },
         "text": "Aggregated Profiles",
         "x": 0.15
        },
        "xaxis": {
         "anchor": "y",
         "automargin": true,
         "domain": [
          0,
          1
         ],
         "fixedrange": true,
         "gridwidth": 2,
         "showticklabels": true,
         "tickcolor": "white",
         "ticklen": 3,
         "ticks": "outside",
         "title": {
          "text": ""
         },
         "type": "linear",
         "zeroline": false
        },
        "yaxis": {
         "anchor": "x",
         "automargin": true,
         "domain": [
          0,
          1
         ],
         "fixedrange": true,
         "gridwidth": 2,
         "range": [
          0.14926044791936874,
          0.1766708180308342
         ],
         "tickcolor": "white",
         "ticklen": 3,
         "ticks": "outside",
         "title": {
          "text": ""
         },
         "type": "linear",
         "zeroline": false
        }
       }
      },
      "text/html": [
       "<div>                            <div id=\"8e2ed26c-fadf-4bcb-8384-38768deb05e1\" class=\"plotly-graph-div\" style=\"height:489px; width:100%;\"></div>            <script type=\"text/javascript\">                require([\"plotly\"], function(Plotly) {                    window.PLOTLYENV=window.PLOTLYENV || {};                                    if (document.getElementById(\"8e2ed26c-fadf-4bcb-8384-38768deb05e1\")) {                    Plotly.newPlot(                        \"8e2ed26c-fadf-4bcb-8384-38768deb05e1\",                        [{\"customdata\":[[0.15282805263996124,\"XGBClassifier\",\"alcohol\"],[0.15282805263996124,\"XGBClassifier\",\"alcohol\"],[0.15282805263996124,\"XGBClassifier\",\"alcohol\"],[0.15282805263996124,\"XGBClassifier\",\"alcohol\"],[0.15282805263996124,\"XGBClassifier\",\"alcohol\"],[0.15282805263996124,\"XGBClassifier\",\"alcohol\"],[0.15282805263996124,\"XGBClassifier\",\"alcohol\"],[0.15282805263996124,\"XGBClassifier\",\"alcohol\"],[0.15282805263996124,\"XGBClassifier\",\"alcohol\"],[0.15282805263996124,\"XGBClassifier\",\"alcohol\"],[0.15282805263996124,\"XGBClassifier\",\"alcohol\"],[0.15282805263996124,\"XGBClassifier\",\"alcohol\"],[0.15282805263996124,\"XGBClassifier\",\"alcohol\"],[0.15282805263996124,\"XGBClassifier\",\"alcohol\"],[0.15282805263996124,\"XGBClassifier\",\"alcohol\"],[0.15282805263996124,\"XGBClassifier\",\"alcohol\"],[0.15282805263996124,\"XGBClassifier\",\"alcohol\"],[0.15282805263996124,\"XGBClassifier\",\"alcohol\"],[0.15282805263996124,\"XGBClassifier\",\"alcohol\"],[0.15282805263996124,\"XGBClassifier\",\"alcohol\"],[0.15282805263996124,\"XGBClassifier\",\"alcohol\"],[0.15282805263996124,\"XGBClassifier\",\"alcohol\"],[0.15282805263996124,\"XGBClassifier\",\"alcohol\"],[0.15282805263996124,\"XGBClassifier\",\"alcohol\"],[0.15282805263996124,\"XGBClassifier\",\"alcohol\"],[0.15282805263996124,\"XGBClassifier\",\"alcohol\"],[0.15282805263996124,\"XGBClassifier\",\"alcohol\"],[0.15282805263996124,\"XGBClassifier\",\"alcohol\"],[0.15282805263996124,\"XGBClassifier\",\"alcohol\"],[0.15282805263996124,\"XGBClassifier\",\"alcohol\"],[0.15282805263996124,\"XGBClassifier\",\"alcohol\"],[0.15282805263996124,\"XGBClassifier\",\"alcohol\"],[0.15282805263996124,\"XGBClassifier\",\"alcohol\"],[0.15282805263996124,\"XGBClassifier\",\"alcohol\"],[0.15282805263996124,\"XGBClassifier\",\"alcohol\"],[0.15282805263996124,\"XGBClassifier\",\"alcohol\"],[0.15282805263996124,\"XGBClassifier\",\"alcohol\"],[0.15282805263996124,\"XGBClassifier\",\"alcohol\"],[0.15282805263996124,\"XGBClassifier\",\"alcohol\"],[0.15282805263996124,\"XGBClassifier\",\"alcohol\"],[0.15282805263996124,\"XGBClassifier\",\"alcohol\"],[0.15282805263996124,\"XGBClassifier\",\"alcohol\"],[0.15282805263996124,\"XGBClassifier\",\"alcohol\"],[0.15282805263996124,\"XGBClassifier\",\"alcohol\"],[0.15282805263996124,\"XGBClassifier\",\"alcohol\"],[0.15282805263996124,\"XGBClassifier\",\"alcohol\"],[0.15282805263996124,\"XGBClassifier\",\"alcohol\"],[0.15282805263996124,\"XGBClassifier\",\"alcohol\"],[0.15282805263996124,\"XGBClassifier\",\"alcohol\"],[0.15282805263996124,\"XGBClassifier\",\"alcohol\"],[0.15282805263996124,\"XGBClassifier\",\"alcohol\"],[0.15282805263996124,\"XGBClassifier\",\"alcohol\"],[0.15282805263996124,\"XGBClassifier\",\"alcohol\"],[0.15282805263996124,\"XGBClassifier\",\"alcohol\"],[0.15282805263996124,\"XGBClassifier\",\"alcohol\"],[0.15282805263996124,\"XGBClassifier\",\"alcohol\"],[0.15282805263996124,\"XGBClassifier\",\"alcohol\"],[0.15282805263996124,\"XGBClassifier\",\"alcohol\"],[0.15282805263996124,\"XGBClassifier\",\"alcohol\"],[0.15282805263996124,\"XGBClassifier\",\"alcohol\"],[0.15282805263996124,\"XGBClassifier\",\"alcohol\"],[0.15282805263996124,\"XGBClassifier\",\"alcohol\"],[0.15282805263996124,\"XGBClassifier\",\"alcohol\"],[0.15282805263996124,\"XGBClassifier\",\"alcohol\"],[0.15282805263996124,\"XGBClassifier\",\"alcohol\"],[0.15282805263996124,\"XGBClassifier\",\"alcohol\"],[0.15282805263996124,\"XGBClassifier\",\"alcohol\"],[0.15282805263996124,\"XGBClassifier\",\"alcohol\"],[0.15282805263996124,\"XGBClassifier\",\"alcohol\"],[0.15282805263996124,\"XGBClassifier\",\"alcohol\"],[0.15282805263996124,\"XGBClassifier\",\"alcohol\"],[0.15282805263996124,\"XGBClassifier\",\"alcohol\"],[0.15282805263996124,\"XGBClassifier\",\"alcohol\"],[0.15282805263996124,\"XGBClassifier\",\"alcohol\"],[0.15282805263996124,\"XGBClassifier\",\"alcohol\"],[0.15282805263996124,\"XGBClassifier\",\"alcohol\"],[0.15282805263996124,\"XGBClassifier\",\"alcohol\"],[0.15282805263996124,\"XGBClassifier\",\"alcohol\"],[0.15282805263996124,\"XGBClassifier\",\"alcohol\"],[0.15282805263996124,\"XGBClassifier\",\"alcohol\"],[0.15282805263996124,\"XGBClassifier\",\"alcohol\"],[0.15282805263996124,\"XGBClassifier\",\"alcohol\"],[0.15282805263996124,\"XGBClassifier\",\"alcohol\"],[0.15282805263996124,\"XGBClassifier\",\"alcohol\"],[0.15282805263996124,\"XGBClassifier\",\"alcohol\"],[0.15282805263996124,\"XGBClassifier\",\"alcohol\"],[0.15282805263996124,\"XGBClassifier\",\"alcohol\"],[0.15282805263996124,\"XGBClassifier\",\"alcohol\"],[0.15282805263996124,\"XGBClassifier\",\"alcohol\"],[0.15282805263996124,\"XGBClassifier\",\"alcohol\"],[0.15282805263996124,\"XGBClassifier\",\"alcohol\"],[0.15282805263996124,\"XGBClassifier\",\"alcohol\"],[0.15282805263996124,\"XGBClassifier\",\"alcohol\"],[0.15282805263996124,\"XGBClassifier\",\"alcohol\"],[0.15282805263996124,\"XGBClassifier\",\"alcohol\"],[0.15282805263996124,\"XGBClassifier\",\"alcohol\"],[0.15282805263996124,\"XGBClassifier\",\"alcohol\"],[0.15282805263996124,\"XGBClassifier\",\"alcohol\"],[0.15282805263996124,\"XGBClassifier\",\"alcohol\"],[0.15282805263996124,\"XGBClassifier\",\"alcohol\"],[0.15282805263996124,\"XGBClassifier\",\"alcohol\"]],\"hovertemplate\":\"<b>%{hovertext}</b><br><br>prediction=%{y:.3f}<br>mean_prediction=%{customdata[0]:.3f}<extra></extra>\",\"hovertext\":[\"XGBClassifier\",\"XGBClassifier\",\"XGBClassifier\",\"XGBClassifier\",\"XGBClassifier\",\"XGBClassifier\",\"XGBClassifier\",\"XGBClassifier\",\"XGBClassifier\",\"XGBClassifier\",\"XGBClassifier\",\"XGBClassifier\",\"XGBClassifier\",\"XGBClassifier\",\"XGBClassifier\",\"XGBClassifier\",\"XGBClassifier\",\"XGBClassifier\",\"XGBClassifier\",\"XGBClassifier\",\"XGBClassifier\",\"XGBClassifier\",\"XGBClassifier\",\"XGBClassifier\",\"XGBClassifier\",\"XGBClassifier\",\"XGBClassifier\",\"XGBClassifier\",\"XGBClassifier\",\"XGBClassifier\",\"XGBClassifier\",\"XGBClassifier\",\"XGBClassifier\",\"XGBClassifier\",\"XGBClassifier\",\"XGBClassifier\",\"XGBClassifier\",\"XGBClassifier\",\"XGBClassifier\",\"XGBClassifier\",\"XGBClassifier\",\"XGBClassifier\",\"XGBClassifier\",\"XGBClassifier\",\"XGBClassifier\",\"XGBClassifier\",\"XGBClassifier\",\"XGBClassifier\",\"XGBClassifier\",\"XGBClassifier\",\"XGBClassifier\",\"XGBClassifier\",\"XGBClassifier\",\"XGBClassifier\",\"XGBClassifier\",\"XGBClassifier\",\"XGBClassifier\",\"XGBClassifier\",\"XGBClassifier\",\"XGBClassifier\",\"XGBClassifier\",\"XGBClassifier\",\"XGBClassifier\",\"XGBClassifier\",\"XGBClassifier\",\"XGBClassifier\",\"XGBClassifier\",\"XGBClassifier\",\"XGBClassifier\",\"XGBClassifier\",\"XGBClassifier\",\"XGBClassifier\",\"XGBClassifier\",\"XGBClassifier\",\"XGBClassifier\",\"XGBClassifier\",\"XGBClassifier\",\"XGBClassifier\",\"XGBClassifier\",\"XGBClassifier\",\"XGBClassifier\",\"XGBClassifier\",\"XGBClassifier\",\"XGBClassifier\",\"XGBClassifier\",\"XGBClassifier\",\"XGBClassifier\",\"XGBClassifier\",\"XGBClassifier\",\"XGBClassifier\",\"XGBClassifier\",\"XGBClassifier\",\"XGBClassifier\",\"XGBClassifier\",\"XGBClassifier\",\"XGBClassifier\",\"XGBClassifier\",\"XGBClassifier\",\"XGBClassifier\",\"XGBClassifier\",\"XGBClassifier\"],\"legendgroup\":\"XGBClassifier\",\"line\":{\"color\":\"#46bac2\",\"dash\":\"solid\",\"width\":2},\"marker\":{\"symbol\":\"circle\"},\"mode\":\"lines\",\"name\":\"XGBClassifier\",\"orientation\":\"v\",\"showlegend\":true,\"x\":[8.4,8.456,8.512,8.568,8.624,8.68,8.736,8.792,8.848,8.904,8.96,9.016,9.072000000000001,9.128,9.184000000000001,9.24,9.296,9.352,9.408000000000001,9.464,9.52,9.576,9.632,9.688,9.744,9.8,9.856,9.912,9.968,10.024000000000001,10.08,10.136,10.192,10.248000000000001,10.304,10.36,10.416,10.472,10.528,10.584,10.64,10.696,10.752,10.808,10.864,10.92,10.975999999999999,11.032,11.088000000000001,11.144,11.2,11.256,11.312000000000001,11.368,11.424,11.48,11.536,11.592,11.648,11.704,11.76,11.815999999999999,11.872,11.928,11.984,12.04,12.096,12.152000000000001,12.208,12.264,12.32,12.376,12.432,12.488,12.544,12.6,12.655999999999999,12.712,12.768,12.824,12.879999999999999,12.936,12.992,13.048,13.104,13.16,13.216000000000001,13.272,13.328,13.384,13.44,13.495999999999999,13.552,13.608,13.664,13.719999999999999,13.776,13.832,13.888,13.943999999999999,14.0],\"xaxis\":\"x\",\"y\":[0.15154464542865753,0.15154464542865753,0.15154464542865753,0.15154464542865753,0.15154464542865753,0.15154464542865753,0.15154464542865753,0.15154464542865753,0.15154464542865753,0.15154464542865753,0.15154464542865753,0.15154464542865753,0.15154464542865753,0.15154464542865753,0.15154464542865753,0.15154464542865753,0.15154464542865753,0.15154464542865753,0.15154464542865753,0.15154464542865753,0.15154464542865753,0.15154464542865753,0.15154464542865753,0.15154464542865753,0.15154464542865753,0.15154464542865753,0.15154464542865753,0.15154464542865753,0.15154464542865753,0.15154464542865753,0.15154464542865753,0.15154464542865753,0.15154464542865753,0.15154464542865753,0.15154464542865753,0.15154464542865753,0.15154464542865753,0.15154464542865753,0.15154464542865753,0.15154464542865753,0.15154464542865753,0.15154464542865753,0.15154464542865753,0.15154464542865753,0.15154464542865753,0.15154464542865753,0.15154464542865753,0.15154464542865753,0.15154464542865753,0.15154464542865753,0.15154464542865753,0.15154464542865753,0.15154464542865753,0.15154464542865753,0.15154464542865753,0.15154464542865753,0.15154464542865753,0.15154464542865753,0.15154464542865753,0.15154464542865753,0.15154464542865753,0.15154464542865753,0.15154464542865753,0.15154464542865753,0.15154464542865753,0.15154464542865753,0.15154464542865753,0.15154464542865753,0.15154464542865753,0.15154464542865753,0.15154464542865753,0.15154464542865753,0.15154464542865753,0.15318885445594788,0.15318885445594788,0.1743866205215454,0.1743866205215454,0.1743866205215454,0.1743866205215454,0.1743866205215454,0.1743866205215454,0.1743866205215454,0.17385333776474,0.17385333776474,0.17385333776474,0.17385333776474,0.17385333776474,0.17385333776474,0.17385333776474,0.17385333776474,0.17385333776474,0.17385333776474,0.17385333776474,0.17385333776474,0.17385333776474,0.17385333776474,0.17385333776474,0.17385333776474,0.17385333776474,0.17385333776474,0.17385333776474],\"yaxis\":\"y\",\"type\":\"scatter\",\"opacity\":1}],                        {\"template\":{\"data\":{\"scatter\":[{\"type\":\"scatter\"}]}},\"xaxis\":{\"anchor\":\"y\",\"domain\":[0.0,1.0],\"title\":{\"text\":\"\"},\"showticklabels\":true,\"type\":\"linear\",\"gridwidth\":2,\"zeroline\":false,\"automargin\":true,\"ticks\":\"outside\",\"tickcolor\":\"white\",\"ticklen\":3,\"fixedrange\":true},\"yaxis\":{\"anchor\":\"x\",\"domain\":[0.0,1.0],\"title\":{\"text\":\"\"},\"range\":[0.14926044791936874,0.1766708180308342],\"type\":\"linear\",\"gridwidth\":2,\"zeroline\":false,\"automargin\":true,\"ticks\":\"outside\",\"tickcolor\":\"white\",\"ticklen\":3,\"fixedrange\":true},\"annotations\":[{\"font\":{\"size\":13},\"showarrow\":false,\"text\":\"alcohol\",\"x\":0.5,\"xanchor\":\"center\",\"xref\":\"paper\",\"y\":1.0,\"yanchor\":\"bottom\",\"yref\":\"paper\"},{\"font\":{\"size\":13},\"showarrow\":false,\"text\":\"prediction\",\"textangle\":-90,\"x\":-0.07,\"xref\":\"paper\",\"y\":0.5,\"yref\":\"paper\"}],\"legend\":{\"title\":{\"text\":\"label\",\"font\":{\"size\":12}},\"tracegroupgap\":0,\"font\":{\"size\":11},\"orientation\":\"h\",\"yanchor\":\"bottom\",\"y\":1.0613496932515338,\"xanchor\":\"right\",\"x\":1,\"itemsizing\":\"constant\"},\"margin\":{\"t\":78,\"b\":71,\"r\":30},\"font\":{\"color\":\"#371ea3\"},\"title\":{\"font\":{\"size\":16},\"text\":\"Aggregated Profiles\",\"x\":0.15},\"hovermode\":\"x unified\",\"height\":489},                        {\"displaylogo\": false, \"staticPlot\": false, \"toImageButtonOptions\": {\"height\": null, \"width\": null}, \"modeBarButtonsToRemove\": [\"sendDataToCloud\", \"lasso2d\", \"autoScale2d\", \"select2d\", \"zoom2d\", \"pan2d\", \"zoomIn2d\", \"zoomOut2d\", \"resetScale2d\", \"toggleSpikelines\", \"hoverCompareCartesian\", \"hoverClosestCartesian\"], \"responsive\": true}                    ).then(function(){\n",
       "                            \n",
       "var gd = document.getElementById('8e2ed26c-fadf-4bcb-8384-38768deb05e1');\n",
       "var x = new MutationObserver(function (mutations, observer) {{\n",
       "        var display = window.getComputedStyle(gd).display;\n",
       "        if (!display || display === 'none') {{\n",
       "            console.log([gd, 'removed!']);\n",
       "            Plotly.purge(gd);\n",
       "            observer.disconnect();\n",
       "        }}\n",
       "}});\n",
       "\n",
       "// Listen for the removal of the full notebook cells\n",
       "var notebookContainer = gd.closest('#notebook-container');\n",
       "if (notebookContainer) {{\n",
       "    x.observe(notebookContainer, {childList: true});\n",
       "}}\n",
       "\n",
       "// Listen for the clearing of the current output cell\n",
       "var outputEl = gd.closest('.output');\n",
       "if (outputEl) {{\n",
       "    x.observe(outputEl, {childList: true});\n",
       "}}\n",
       "\n",
       "                        })                };                });            </script>        </div>"
      ]
     },
     "metadata": {},
     "output_type": "display_data"
    }
   ],
   "source": [
    "exp.model_profile(variables='alcohol').plot()"
   ]
  },
  {
   "cell_type": "code",
   "execution_count": 60,
   "id": "forbidden-spring",
   "metadata": {},
   "outputs": [
    {
     "name": "stderr",
     "output_type": "stream",
     "text": [
      "Calculating ceteris paribus: 100%|██████████| 1/1 [00:00<00:00, 52.65it/s]\n"
     ]
    },
    {
     "data": {
      "application/vnd.plotly.v1+json": {
       "config": {
        "displaylogo": false,
        "modeBarButtonsToRemove": [
         "sendDataToCloud",
         "lasso2d",
         "autoScale2d",
         "select2d",
         "zoom2d",
         "pan2d",
         "zoomIn2d",
         "zoomOut2d",
         "resetScale2d",
         "toggleSpikelines",
         "hoverCompareCartesian",
         "hoverClosestCartesian"
        ],
        "plotlyServerURL": "https://plot.ly",
        "staticPlot": false,
        "toImageButtonOptions": {
         "height": null,
         "width": null
        }
       },
       "data": [
        {
         "customdata": [
          [
           0.15282806754112244,
           "XGBClassifier",
           "sulphates"
          ],
          [
           0.15282806754112244,
           "XGBClassifier",
           "sulphates"
          ],
          [
           0.15282806754112244,
           "XGBClassifier",
           "sulphates"
          ],
          [
           0.15282806754112244,
           "XGBClassifier",
           "sulphates"
          ],
          [
           0.15282806754112244,
           "XGBClassifier",
           "sulphates"
          ],
          [
           0.15282806754112244,
           "XGBClassifier",
           "sulphates"
          ],
          [
           0.15282806754112244,
           "XGBClassifier",
           "sulphates"
          ],
          [
           0.15282806754112244,
           "XGBClassifier",
           "sulphates"
          ],
          [
           0.15282806754112244,
           "XGBClassifier",
           "sulphates"
          ],
          [
           0.15282806754112244,
           "XGBClassifier",
           "sulphates"
          ],
          [
           0.15282806754112244,
           "XGBClassifier",
           "sulphates"
          ],
          [
           0.15282806754112244,
           "XGBClassifier",
           "sulphates"
          ],
          [
           0.15282806754112244,
           "XGBClassifier",
           "sulphates"
          ],
          [
           0.15282806754112244,
           "XGBClassifier",
           "sulphates"
          ],
          [
           0.15282806754112244,
           "XGBClassifier",
           "sulphates"
          ],
          [
           0.15282806754112244,
           "XGBClassifier",
           "sulphates"
          ],
          [
           0.15282806754112244,
           "XGBClassifier",
           "sulphates"
          ],
          [
           0.15282806754112244,
           "XGBClassifier",
           "sulphates"
          ],
          [
           0.15282806754112244,
           "XGBClassifier",
           "sulphates"
          ],
          [
           0.15282806754112244,
           "XGBClassifier",
           "sulphates"
          ],
          [
           0.15282806754112244,
           "XGBClassifier",
           "sulphates"
          ],
          [
           0.15282806754112244,
           "XGBClassifier",
           "sulphates"
          ],
          [
           0.15282806754112244,
           "XGBClassifier",
           "sulphates"
          ],
          [
           0.15282806754112244,
           "XGBClassifier",
           "sulphates"
          ],
          [
           0.15282806754112244,
           "XGBClassifier",
           "sulphates"
          ],
          [
           0.15282806754112244,
           "XGBClassifier",
           "sulphates"
          ],
          [
           0.15282806754112244,
           "XGBClassifier",
           "sulphates"
          ],
          [
           0.15282806754112244,
           "XGBClassifier",
           "sulphates"
          ],
          [
           0.15282806754112244,
           "XGBClassifier",
           "sulphates"
          ],
          [
           0.15282806754112244,
           "XGBClassifier",
           "sulphates"
          ],
          [
           0.15282806754112244,
           "XGBClassifier",
           "sulphates"
          ],
          [
           0.15282806754112244,
           "XGBClassifier",
           "sulphates"
          ],
          [
           0.15282806754112244,
           "XGBClassifier",
           "sulphates"
          ],
          [
           0.15282806754112244,
           "XGBClassifier",
           "sulphates"
          ],
          [
           0.15282806754112244,
           "XGBClassifier",
           "sulphates"
          ],
          [
           0.15282806754112244,
           "XGBClassifier",
           "sulphates"
          ],
          [
           0.15282806754112244,
           "XGBClassifier",
           "sulphates"
          ],
          [
           0.15282806754112244,
           "XGBClassifier",
           "sulphates"
          ],
          [
           0.15282806754112244,
           "XGBClassifier",
           "sulphates"
          ],
          [
           0.15282806754112244,
           "XGBClassifier",
           "sulphates"
          ],
          [
           0.15282806754112244,
           "XGBClassifier",
           "sulphates"
          ],
          [
           0.15282806754112244,
           "XGBClassifier",
           "sulphates"
          ],
          [
           0.15282806754112244,
           "XGBClassifier",
           "sulphates"
          ],
          [
           0.15282806754112244,
           "XGBClassifier",
           "sulphates"
          ],
          [
           0.15282806754112244,
           "XGBClassifier",
           "sulphates"
          ],
          [
           0.15282806754112244,
           "XGBClassifier",
           "sulphates"
          ],
          [
           0.15282806754112244,
           "XGBClassifier",
           "sulphates"
          ],
          [
           0.15282806754112244,
           "XGBClassifier",
           "sulphates"
          ],
          [
           0.15282806754112244,
           "XGBClassifier",
           "sulphates"
          ],
          [
           0.15282806754112244,
           "XGBClassifier",
           "sulphates"
          ],
          [
           0.15282806754112244,
           "XGBClassifier",
           "sulphates"
          ],
          [
           0.15282806754112244,
           "XGBClassifier",
           "sulphates"
          ],
          [
           0.15282806754112244,
           "XGBClassifier",
           "sulphates"
          ],
          [
           0.15282806754112244,
           "XGBClassifier",
           "sulphates"
          ],
          [
           0.15282806754112244,
           "XGBClassifier",
           "sulphates"
          ],
          [
           0.15282806754112244,
           "XGBClassifier",
           "sulphates"
          ],
          [
           0.15282806754112244,
           "XGBClassifier",
           "sulphates"
          ],
          [
           0.15282806754112244,
           "XGBClassifier",
           "sulphates"
          ],
          [
           0.15282806754112244,
           "XGBClassifier",
           "sulphates"
          ],
          [
           0.15282806754112244,
           "XGBClassifier",
           "sulphates"
          ],
          [
           0.15282806754112244,
           "XGBClassifier",
           "sulphates"
          ],
          [
           0.15282806754112244,
           "XGBClassifier",
           "sulphates"
          ],
          [
           0.15282806754112244,
           "XGBClassifier",
           "sulphates"
          ],
          [
           0.15282806754112244,
           "XGBClassifier",
           "sulphates"
          ],
          [
           0.15282806754112244,
           "XGBClassifier",
           "sulphates"
          ],
          [
           0.15282806754112244,
           "XGBClassifier",
           "sulphates"
          ],
          [
           0.15282806754112244,
           "XGBClassifier",
           "sulphates"
          ],
          [
           0.15282806754112244,
           "XGBClassifier",
           "sulphates"
          ],
          [
           0.15282806754112244,
           "XGBClassifier",
           "sulphates"
          ],
          [
           0.15282806754112244,
           "XGBClassifier",
           "sulphates"
          ],
          [
           0.15282806754112244,
           "XGBClassifier",
           "sulphates"
          ],
          [
           0.15282806754112244,
           "XGBClassifier",
           "sulphates"
          ],
          [
           0.15282806754112244,
           "XGBClassifier",
           "sulphates"
          ],
          [
           0.15282806754112244,
           "XGBClassifier",
           "sulphates"
          ],
          [
           0.15282806754112244,
           "XGBClassifier",
           "sulphates"
          ],
          [
           0.15282806754112244,
           "XGBClassifier",
           "sulphates"
          ],
          [
           0.15282806754112244,
           "XGBClassifier",
           "sulphates"
          ],
          [
           0.15282806754112244,
           "XGBClassifier",
           "sulphates"
          ],
          [
           0.15282806754112244,
           "XGBClassifier",
           "sulphates"
          ],
          [
           0.15282806754112244,
           "XGBClassifier",
           "sulphates"
          ],
          [
           0.15282806754112244,
           "XGBClassifier",
           "sulphates"
          ],
          [
           0.15282806754112244,
           "XGBClassifier",
           "sulphates"
          ],
          [
           0.15282806754112244,
           "XGBClassifier",
           "sulphates"
          ],
          [
           0.15282806754112244,
           "XGBClassifier",
           "sulphates"
          ],
          [
           0.15282806754112244,
           "XGBClassifier",
           "sulphates"
          ],
          [
           0.15282806754112244,
           "XGBClassifier",
           "sulphates"
          ],
          [
           0.15282806754112244,
           "XGBClassifier",
           "sulphates"
          ],
          [
           0.15282806754112244,
           "XGBClassifier",
           "sulphates"
          ],
          [
           0.15282806754112244,
           "XGBClassifier",
           "sulphates"
          ],
          [
           0.15282806754112244,
           "XGBClassifier",
           "sulphates"
          ],
          [
           0.15282806754112244,
           "XGBClassifier",
           "sulphates"
          ],
          [
           0.15282806754112244,
           "XGBClassifier",
           "sulphates"
          ],
          [
           0.15282806754112244,
           "XGBClassifier",
           "sulphates"
          ],
          [
           0.15282806754112244,
           "XGBClassifier",
           "sulphates"
          ],
          [
           0.15282806754112244,
           "XGBClassifier",
           "sulphates"
          ],
          [
           0.15282806754112244,
           "XGBClassifier",
           "sulphates"
          ],
          [
           0.15282806754112244,
           "XGBClassifier",
           "sulphates"
          ],
          [
           0.15282806754112244,
           "XGBClassifier",
           "sulphates"
          ],
          [
           0.15282806754112244,
           "XGBClassifier",
           "sulphates"
          ],
          [
           0.15282806754112244,
           "XGBClassifier",
           "sulphates"
          ],
          [
           0.15282806754112244,
           "XGBClassifier",
           "sulphates"
          ]
         ],
         "hovertemplate": "<b>%{hovertext}</b><br><br>prediction=%{y:.3f}<br>mean_prediction=%{customdata[0]:.3f}<extra></extra>",
         "hovertext": [
          "XGBClassifier",
          "XGBClassifier",
          "XGBClassifier",
          "XGBClassifier",
          "XGBClassifier",
          "XGBClassifier",
          "XGBClassifier",
          "XGBClassifier",
          "XGBClassifier",
          "XGBClassifier",
          "XGBClassifier",
          "XGBClassifier",
          "XGBClassifier",
          "XGBClassifier",
          "XGBClassifier",
          "XGBClassifier",
          "XGBClassifier",
          "XGBClassifier",
          "XGBClassifier",
          "XGBClassifier",
          "XGBClassifier",
          "XGBClassifier",
          "XGBClassifier",
          "XGBClassifier",
          "XGBClassifier",
          "XGBClassifier",
          "XGBClassifier",
          "XGBClassifier",
          "XGBClassifier",
          "XGBClassifier",
          "XGBClassifier",
          "XGBClassifier",
          "XGBClassifier",
          "XGBClassifier",
          "XGBClassifier",
          "XGBClassifier",
          "XGBClassifier",
          "XGBClassifier",
          "XGBClassifier",
          "XGBClassifier",
          "XGBClassifier",
          "XGBClassifier",
          "XGBClassifier",
          "XGBClassifier",
          "XGBClassifier",
          "XGBClassifier",
          "XGBClassifier",
          "XGBClassifier",
          "XGBClassifier",
          "XGBClassifier",
          "XGBClassifier",
          "XGBClassifier",
          "XGBClassifier",
          "XGBClassifier",
          "XGBClassifier",
          "XGBClassifier",
          "XGBClassifier",
          "XGBClassifier",
          "XGBClassifier",
          "XGBClassifier",
          "XGBClassifier",
          "XGBClassifier",
          "XGBClassifier",
          "XGBClassifier",
          "XGBClassifier",
          "XGBClassifier",
          "XGBClassifier",
          "XGBClassifier",
          "XGBClassifier",
          "XGBClassifier",
          "XGBClassifier",
          "XGBClassifier",
          "XGBClassifier",
          "XGBClassifier",
          "XGBClassifier",
          "XGBClassifier",
          "XGBClassifier",
          "XGBClassifier",
          "XGBClassifier",
          "XGBClassifier",
          "XGBClassifier",
          "XGBClassifier",
          "XGBClassifier",
          "XGBClassifier",
          "XGBClassifier",
          "XGBClassifier",
          "XGBClassifier",
          "XGBClassifier",
          "XGBClassifier",
          "XGBClassifier",
          "XGBClassifier",
          "XGBClassifier",
          "XGBClassifier",
          "XGBClassifier",
          "XGBClassifier",
          "XGBClassifier",
          "XGBClassifier",
          "XGBClassifier",
          "XGBClassifier",
          "XGBClassifier",
          "XGBClassifier"
         ],
         "legendgroup": "XGBClassifier",
         "line": {
          "color": "#46bac2",
          "dash": "solid",
          "width": 2
         },
         "marker": {
          "symbol": "circle"
         },
         "mode": "lines",
         "name": "XGBClassifier",
         "opacity": 1,
         "orientation": "v",
         "showlegend": true,
         "type": "scatter",
         "x": [
          0.33,
          0.3428,
          0.3556,
          0.3684,
          0.38120000000000004,
          0.394,
          0.40680000000000005,
          0.41960000000000003,
          0.4324,
          0.44520000000000004,
          0.458,
          0.4708,
          0.48360000000000003,
          0.49640000000000006,
          0.5092,
          0.522,
          0.5348,
          0.5476000000000001,
          0.5604,
          0.5732,
          0.5860000000000001,
          0.5988,
          0.6116,
          0.6244000000000001,
          0.6372,
          0.65,
          0.6628000000000001,
          0.6756,
          0.6884,
          0.7012,
          0.714,
          0.7268000000000001,
          0.7396,
          0.7524,
          0.7652000000000001,
          0.778,
          0.7908000000000001,
          0.8036000000000001,
          0.8164,
          0.8292,
          0.8420000000000001,
          0.8548,
          0.8676000000000001,
          0.8804000000000001,
          0.8932,
          0.9060000000000001,
          0.9188000000000001,
          0.9316,
          0.9444000000000001,
          0.9572,
          0.97,
          0.9828000000000001,
          0.9956,
          1.0084,
          1.0212,
          1.034,
          1.0468,
          1.0596,
          1.0724,
          1.0852,
          1.098,
          1.1108,
          1.1236000000000002,
          1.1364,
          1.1492,
          1.1620000000000001,
          1.1748,
          1.1876,
          1.2004000000000001,
          1.2132,
          1.226,
          1.2388000000000001,
          1.2516,
          1.2644,
          1.2772000000000001,
          1.29,
          1.3028,
          1.3156,
          1.3284,
          1.3412000000000002,
          1.354,
          1.3668,
          1.3796000000000002,
          1.3924,
          1.4052000000000002,
          1.4180000000000001,
          1.4308,
          1.4436000000000002,
          1.4564000000000001,
          1.4692,
          1.4820000000000002,
          1.4948000000000001,
          1.5076,
          1.5204000000000002,
          1.5332000000000001,
          1.546,
          1.5588000000000002,
          1.5716,
          1.5844,
          1.5972000000000002,
          1.61
         ],
         "xaxis": "x",
         "y": [
          0.15241363644599915,
          0.15241363644599915,
          0.15241363644599915,
          0.15241363644599915,
          0.15241363644599915,
          0.15241363644599915,
          0.15241363644599915,
          0.15241363644599915,
          0.15241363644599915,
          0.15241363644599915,
          0.15241363644599915,
          0.15241363644599915,
          0.15241363644599915,
          0.15241363644599915,
          0.15241363644599915,
          0.15241363644599915,
          0.15241363644599915,
          0.15241363644599915,
          0.15241363644599915,
          0.15241363644599915,
          0.15241363644599915,
          0.15241363644599915,
          0.15241363644599915,
          0.15241363644599915,
          0.15241363644599915,
          0.15241363644599915,
          0.15241363644599915,
          0.15241363644599915,
          0.15310870110988617,
          0.15310870110988617,
          0.15310870110988617,
          0.15310870110988617,
          0.15310870110988617,
          0.15310870110988617,
          0.15310870110988617,
          0.15310870110988617,
          0.15310870110988617,
          0.15310870110988617,
          0.15329335629940033,
          0.15329335629940033,
          0.15329335629940033,
          0.15329335629940033,
          0.15329335629940033,
          0.15329335629940033,
          0.15329335629940033,
          0.15329335629940033,
          0.15329335629940033,
          0.15329335629940033,
          0.15329335629940033,
          0.15329335629940033,
          0.15329335629940033,
          0.15329335629940033,
          0.15329335629940033,
          0.15329335629940033,
          0.15329335629940033,
          0.15329335629940033,
          0.15329335629940033,
          0.15329335629940033,
          0.15329335629940033,
          0.15329335629940033,
          0.15329335629940033,
          0.15329335629940033,
          0.15329335629940033,
          0.15329335629940033,
          0.15329335629940033,
          0.15329335629940033,
          0.15329335629940033,
          0.15329335629940033,
          0.15329335629940033,
          0.15329335629940033,
          0.15329335629940033,
          0.15329335629940033,
          0.15329335629940033,
          0.15329335629940033,
          0.15329335629940033,
          0.15329335629940033,
          0.15329335629940033,
          0.15329335629940033,
          0.15329335629940033,
          0.15329335629940033,
          0.15329335629940033,
          0.15329335629940033,
          0.15329335629940033,
          0.15329335629940033,
          0.15329335629940033,
          0.15329335629940033,
          0.15329335629940033,
          0.15329335629940033,
          0.15329335629940033,
          0.15329335629940033,
          0.15329335629940033,
          0.15329335629940033,
          0.15329335629940033,
          0.15329335629940033,
          0.15329335629940033,
          0.15329335629940033,
          0.15329335629940033,
          0.15329335629940033,
          0.15329335629940033,
          0.15329335629940033,
          0.15329335629940033
         ],
         "yaxis": "y"
        }
       ],
       "layout": {
        "annotations": [
         {
          "font": {
           "size": 13
          },
          "showarrow": false,
          "text": "sulphates",
          "x": 0.5,
          "xanchor": "center",
          "xref": "paper",
          "y": 1,
          "yanchor": "bottom",
          "yref": "paper"
         },
         {
          "font": {
           "size": 13
          },
          "showarrow": false,
          "text": "prediction",
          "textangle": -90,
          "x": -0.07,
          "xref": "paper",
          "y": 0.5,
          "yref": "paper"
         }
        ],
        "font": {
         "color": "#371ea3"
        },
        "height": 489,
        "hovermode": "x unified",
        "legend": {
         "font": {
          "size": 11
         },
         "itemsizing": "constant",
         "orientation": "h",
         "title": {
          "font": {
           "size": 12
          },
          "text": "label"
         },
         "tracegroupgap": 0,
         "x": 1,
         "xanchor": "right",
         "y": 1.0613496932515338,
         "yanchor": "bottom"
        },
        "margin": {
         "b": 71,
         "r": 30,
         "t": 78
        },
        "template": {
         "data": {
          "scatter": [
           {
            "type": "scatter"
           }
          ]
         }
        },
        "title": {
         "font": {
          "size": 16
         },
         "text": "Aggregated Profiles",
         "x": 0.15
        },
        "xaxis": {
         "anchor": "y",
         "automargin": true,
         "domain": [
          0,
          1
         ],
         "fixedrange": true,
         "gridwidth": 2,
         "showticklabels": true,
         "tickcolor": "white",
         "ticklen": 3,
         "ticks": "outside",
         "title": {
          "text": ""
         },
         "type": "linear",
         "zeroline": false
        },
        "yaxis": {
         "anchor": "x",
         "automargin": true,
         "domain": [
          0,
          1
         ],
         "fixedrange": true,
         "gridwidth": 2,
         "range": [
          0.15232566446065904,
          0.15338132828474044
         ],
         "tickcolor": "white",
         "ticklen": 3,
         "ticks": "outside",
         "title": {
          "text": ""
         },
         "type": "linear",
         "zeroline": false
        }
       }
      },
      "text/html": [
       "<div>                            <div id=\"472b5b63-f080-4767-b8be-ff27eff056c7\" class=\"plotly-graph-div\" style=\"height:489px; width:100%;\"></div>            <script type=\"text/javascript\">                require([\"plotly\"], function(Plotly) {                    window.PLOTLYENV=window.PLOTLYENV || {};                                    if (document.getElementById(\"472b5b63-f080-4767-b8be-ff27eff056c7\")) {                    Plotly.newPlot(                        \"472b5b63-f080-4767-b8be-ff27eff056c7\",                        [{\"customdata\":[[0.15282806754112244,\"XGBClassifier\",\"sulphates\"],[0.15282806754112244,\"XGBClassifier\",\"sulphates\"],[0.15282806754112244,\"XGBClassifier\",\"sulphates\"],[0.15282806754112244,\"XGBClassifier\",\"sulphates\"],[0.15282806754112244,\"XGBClassifier\",\"sulphates\"],[0.15282806754112244,\"XGBClassifier\",\"sulphates\"],[0.15282806754112244,\"XGBClassifier\",\"sulphates\"],[0.15282806754112244,\"XGBClassifier\",\"sulphates\"],[0.15282806754112244,\"XGBClassifier\",\"sulphates\"],[0.15282806754112244,\"XGBClassifier\",\"sulphates\"],[0.15282806754112244,\"XGBClassifier\",\"sulphates\"],[0.15282806754112244,\"XGBClassifier\",\"sulphates\"],[0.15282806754112244,\"XGBClassifier\",\"sulphates\"],[0.15282806754112244,\"XGBClassifier\",\"sulphates\"],[0.15282806754112244,\"XGBClassifier\",\"sulphates\"],[0.15282806754112244,\"XGBClassifier\",\"sulphates\"],[0.15282806754112244,\"XGBClassifier\",\"sulphates\"],[0.15282806754112244,\"XGBClassifier\",\"sulphates\"],[0.15282806754112244,\"XGBClassifier\",\"sulphates\"],[0.15282806754112244,\"XGBClassifier\",\"sulphates\"],[0.15282806754112244,\"XGBClassifier\",\"sulphates\"],[0.15282806754112244,\"XGBClassifier\",\"sulphates\"],[0.15282806754112244,\"XGBClassifier\",\"sulphates\"],[0.15282806754112244,\"XGBClassifier\",\"sulphates\"],[0.15282806754112244,\"XGBClassifier\",\"sulphates\"],[0.15282806754112244,\"XGBClassifier\",\"sulphates\"],[0.15282806754112244,\"XGBClassifier\",\"sulphates\"],[0.15282806754112244,\"XGBClassifier\",\"sulphates\"],[0.15282806754112244,\"XGBClassifier\",\"sulphates\"],[0.15282806754112244,\"XGBClassifier\",\"sulphates\"],[0.15282806754112244,\"XGBClassifier\",\"sulphates\"],[0.15282806754112244,\"XGBClassifier\",\"sulphates\"],[0.15282806754112244,\"XGBClassifier\",\"sulphates\"],[0.15282806754112244,\"XGBClassifier\",\"sulphates\"],[0.15282806754112244,\"XGBClassifier\",\"sulphates\"],[0.15282806754112244,\"XGBClassifier\",\"sulphates\"],[0.15282806754112244,\"XGBClassifier\",\"sulphates\"],[0.15282806754112244,\"XGBClassifier\",\"sulphates\"],[0.15282806754112244,\"XGBClassifier\",\"sulphates\"],[0.15282806754112244,\"XGBClassifier\",\"sulphates\"],[0.15282806754112244,\"XGBClassifier\",\"sulphates\"],[0.15282806754112244,\"XGBClassifier\",\"sulphates\"],[0.15282806754112244,\"XGBClassifier\",\"sulphates\"],[0.15282806754112244,\"XGBClassifier\",\"sulphates\"],[0.15282806754112244,\"XGBClassifier\",\"sulphates\"],[0.15282806754112244,\"XGBClassifier\",\"sulphates\"],[0.15282806754112244,\"XGBClassifier\",\"sulphates\"],[0.15282806754112244,\"XGBClassifier\",\"sulphates\"],[0.15282806754112244,\"XGBClassifier\",\"sulphates\"],[0.15282806754112244,\"XGBClassifier\",\"sulphates\"],[0.15282806754112244,\"XGBClassifier\",\"sulphates\"],[0.15282806754112244,\"XGBClassifier\",\"sulphates\"],[0.15282806754112244,\"XGBClassifier\",\"sulphates\"],[0.15282806754112244,\"XGBClassifier\",\"sulphates\"],[0.15282806754112244,\"XGBClassifier\",\"sulphates\"],[0.15282806754112244,\"XGBClassifier\",\"sulphates\"],[0.15282806754112244,\"XGBClassifier\",\"sulphates\"],[0.15282806754112244,\"XGBClassifier\",\"sulphates\"],[0.15282806754112244,\"XGBClassifier\",\"sulphates\"],[0.15282806754112244,\"XGBClassifier\",\"sulphates\"],[0.15282806754112244,\"XGBClassifier\",\"sulphates\"],[0.15282806754112244,\"XGBClassifier\",\"sulphates\"],[0.15282806754112244,\"XGBClassifier\",\"sulphates\"],[0.15282806754112244,\"XGBClassifier\",\"sulphates\"],[0.15282806754112244,\"XGBClassifier\",\"sulphates\"],[0.15282806754112244,\"XGBClassifier\",\"sulphates\"],[0.15282806754112244,\"XGBClassifier\",\"sulphates\"],[0.15282806754112244,\"XGBClassifier\",\"sulphates\"],[0.15282806754112244,\"XGBClassifier\",\"sulphates\"],[0.15282806754112244,\"XGBClassifier\",\"sulphates\"],[0.15282806754112244,\"XGBClassifier\",\"sulphates\"],[0.15282806754112244,\"XGBClassifier\",\"sulphates\"],[0.15282806754112244,\"XGBClassifier\",\"sulphates\"],[0.15282806754112244,\"XGBClassifier\",\"sulphates\"],[0.15282806754112244,\"XGBClassifier\",\"sulphates\"],[0.15282806754112244,\"XGBClassifier\",\"sulphates\"],[0.15282806754112244,\"XGBClassifier\",\"sulphates\"],[0.15282806754112244,\"XGBClassifier\",\"sulphates\"],[0.15282806754112244,\"XGBClassifier\",\"sulphates\"],[0.15282806754112244,\"XGBClassifier\",\"sulphates\"],[0.15282806754112244,\"XGBClassifier\",\"sulphates\"],[0.15282806754112244,\"XGBClassifier\",\"sulphates\"],[0.15282806754112244,\"XGBClassifier\",\"sulphates\"],[0.15282806754112244,\"XGBClassifier\",\"sulphates\"],[0.15282806754112244,\"XGBClassifier\",\"sulphates\"],[0.15282806754112244,\"XGBClassifier\",\"sulphates\"],[0.15282806754112244,\"XGBClassifier\",\"sulphates\"],[0.15282806754112244,\"XGBClassifier\",\"sulphates\"],[0.15282806754112244,\"XGBClassifier\",\"sulphates\"],[0.15282806754112244,\"XGBClassifier\",\"sulphates\"],[0.15282806754112244,\"XGBClassifier\",\"sulphates\"],[0.15282806754112244,\"XGBClassifier\",\"sulphates\"],[0.15282806754112244,\"XGBClassifier\",\"sulphates\"],[0.15282806754112244,\"XGBClassifier\",\"sulphates\"],[0.15282806754112244,\"XGBClassifier\",\"sulphates\"],[0.15282806754112244,\"XGBClassifier\",\"sulphates\"],[0.15282806754112244,\"XGBClassifier\",\"sulphates\"],[0.15282806754112244,\"XGBClassifier\",\"sulphates\"],[0.15282806754112244,\"XGBClassifier\",\"sulphates\"],[0.15282806754112244,\"XGBClassifier\",\"sulphates\"],[0.15282806754112244,\"XGBClassifier\",\"sulphates\"]],\"hovertemplate\":\"<b>%{hovertext}</b><br><br>prediction=%{y:.3f}<br>mean_prediction=%{customdata[0]:.3f}<extra></extra>\",\"hovertext\":[\"XGBClassifier\",\"XGBClassifier\",\"XGBClassifier\",\"XGBClassifier\",\"XGBClassifier\",\"XGBClassifier\",\"XGBClassifier\",\"XGBClassifier\",\"XGBClassifier\",\"XGBClassifier\",\"XGBClassifier\",\"XGBClassifier\",\"XGBClassifier\",\"XGBClassifier\",\"XGBClassifier\",\"XGBClassifier\",\"XGBClassifier\",\"XGBClassifier\",\"XGBClassifier\",\"XGBClassifier\",\"XGBClassifier\",\"XGBClassifier\",\"XGBClassifier\",\"XGBClassifier\",\"XGBClassifier\",\"XGBClassifier\",\"XGBClassifier\",\"XGBClassifier\",\"XGBClassifier\",\"XGBClassifier\",\"XGBClassifier\",\"XGBClassifier\",\"XGBClassifier\",\"XGBClassifier\",\"XGBClassifier\",\"XGBClassifier\",\"XGBClassifier\",\"XGBClassifier\",\"XGBClassifier\",\"XGBClassifier\",\"XGBClassifier\",\"XGBClassifier\",\"XGBClassifier\",\"XGBClassifier\",\"XGBClassifier\",\"XGBClassifier\",\"XGBClassifier\",\"XGBClassifier\",\"XGBClassifier\",\"XGBClassifier\",\"XGBClassifier\",\"XGBClassifier\",\"XGBClassifier\",\"XGBClassifier\",\"XGBClassifier\",\"XGBClassifier\",\"XGBClassifier\",\"XGBClassifier\",\"XGBClassifier\",\"XGBClassifier\",\"XGBClassifier\",\"XGBClassifier\",\"XGBClassifier\",\"XGBClassifier\",\"XGBClassifier\",\"XGBClassifier\",\"XGBClassifier\",\"XGBClassifier\",\"XGBClassifier\",\"XGBClassifier\",\"XGBClassifier\",\"XGBClassifier\",\"XGBClassifier\",\"XGBClassifier\",\"XGBClassifier\",\"XGBClassifier\",\"XGBClassifier\",\"XGBClassifier\",\"XGBClassifier\",\"XGBClassifier\",\"XGBClassifier\",\"XGBClassifier\",\"XGBClassifier\",\"XGBClassifier\",\"XGBClassifier\",\"XGBClassifier\",\"XGBClassifier\",\"XGBClassifier\",\"XGBClassifier\",\"XGBClassifier\",\"XGBClassifier\",\"XGBClassifier\",\"XGBClassifier\",\"XGBClassifier\",\"XGBClassifier\",\"XGBClassifier\",\"XGBClassifier\",\"XGBClassifier\",\"XGBClassifier\",\"XGBClassifier\",\"XGBClassifier\"],\"legendgroup\":\"XGBClassifier\",\"line\":{\"color\":\"#46bac2\",\"dash\":\"solid\",\"width\":2},\"marker\":{\"symbol\":\"circle\"},\"mode\":\"lines\",\"name\":\"XGBClassifier\",\"orientation\":\"v\",\"showlegend\":true,\"x\":[0.33,0.3428,0.3556,0.3684,0.38120000000000004,0.394,0.40680000000000005,0.41960000000000003,0.4324,0.44520000000000004,0.458,0.4708,0.48360000000000003,0.49640000000000006,0.5092,0.522,0.5348,0.5476000000000001,0.5604,0.5732,0.5860000000000001,0.5988,0.6116,0.6244000000000001,0.6372,0.65,0.6628000000000001,0.6756,0.6884,0.7012,0.714,0.7268000000000001,0.7396,0.7524,0.7652000000000001,0.778,0.7908000000000001,0.8036000000000001,0.8164,0.8292,0.8420000000000001,0.8548,0.8676000000000001,0.8804000000000001,0.8932,0.9060000000000001,0.9188000000000001,0.9316,0.9444000000000001,0.9572,0.97,0.9828000000000001,0.9956,1.0084,1.0212,1.034,1.0468,1.0596,1.0724,1.0852,1.098,1.1108,1.1236000000000002,1.1364,1.1492,1.1620000000000001,1.1748,1.1876,1.2004000000000001,1.2132,1.226,1.2388000000000001,1.2516,1.2644,1.2772000000000001,1.29,1.3028,1.3156,1.3284,1.3412000000000002,1.354,1.3668,1.3796000000000002,1.3924,1.4052000000000002,1.4180000000000001,1.4308,1.4436000000000002,1.4564000000000001,1.4692,1.4820000000000002,1.4948000000000001,1.5076,1.5204000000000002,1.5332000000000001,1.546,1.5588000000000002,1.5716,1.5844,1.5972000000000002,1.61],\"xaxis\":\"x\",\"y\":[0.15241363644599915,0.15241363644599915,0.15241363644599915,0.15241363644599915,0.15241363644599915,0.15241363644599915,0.15241363644599915,0.15241363644599915,0.15241363644599915,0.15241363644599915,0.15241363644599915,0.15241363644599915,0.15241363644599915,0.15241363644599915,0.15241363644599915,0.15241363644599915,0.15241363644599915,0.15241363644599915,0.15241363644599915,0.15241363644599915,0.15241363644599915,0.15241363644599915,0.15241363644599915,0.15241363644599915,0.15241363644599915,0.15241363644599915,0.15241363644599915,0.15241363644599915,0.15310870110988617,0.15310870110988617,0.15310870110988617,0.15310870110988617,0.15310870110988617,0.15310870110988617,0.15310870110988617,0.15310870110988617,0.15310870110988617,0.15310870110988617,0.15329335629940033,0.15329335629940033,0.15329335629940033,0.15329335629940033,0.15329335629940033,0.15329335629940033,0.15329335629940033,0.15329335629940033,0.15329335629940033,0.15329335629940033,0.15329335629940033,0.15329335629940033,0.15329335629940033,0.15329335629940033,0.15329335629940033,0.15329335629940033,0.15329335629940033,0.15329335629940033,0.15329335629940033,0.15329335629940033,0.15329335629940033,0.15329335629940033,0.15329335629940033,0.15329335629940033,0.15329335629940033,0.15329335629940033,0.15329335629940033,0.15329335629940033,0.15329335629940033,0.15329335629940033,0.15329335629940033,0.15329335629940033,0.15329335629940033,0.15329335629940033,0.15329335629940033,0.15329335629940033,0.15329335629940033,0.15329335629940033,0.15329335629940033,0.15329335629940033,0.15329335629940033,0.15329335629940033,0.15329335629940033,0.15329335629940033,0.15329335629940033,0.15329335629940033,0.15329335629940033,0.15329335629940033,0.15329335629940033,0.15329335629940033,0.15329335629940033,0.15329335629940033,0.15329335629940033,0.15329335629940033,0.15329335629940033,0.15329335629940033,0.15329335629940033,0.15329335629940033,0.15329335629940033,0.15329335629940033,0.15329335629940033,0.15329335629940033,0.15329335629940033],\"yaxis\":\"y\",\"type\":\"scatter\",\"opacity\":1}],                        {\"template\":{\"data\":{\"scatter\":[{\"type\":\"scatter\"}]}},\"xaxis\":{\"anchor\":\"y\",\"domain\":[0.0,1.0],\"title\":{\"text\":\"\"},\"showticklabels\":true,\"type\":\"linear\",\"gridwidth\":2,\"zeroline\":false,\"automargin\":true,\"ticks\":\"outside\",\"tickcolor\":\"white\",\"ticklen\":3,\"fixedrange\":true},\"yaxis\":{\"anchor\":\"x\",\"domain\":[0.0,1.0],\"title\":{\"text\":\"\"},\"range\":[0.15232566446065904,0.15338132828474044],\"type\":\"linear\",\"gridwidth\":2,\"zeroline\":false,\"automargin\":true,\"ticks\":\"outside\",\"tickcolor\":\"white\",\"ticklen\":3,\"fixedrange\":true},\"annotations\":[{\"font\":{\"size\":13},\"showarrow\":false,\"text\":\"sulphates\",\"x\":0.5,\"xanchor\":\"center\",\"xref\":\"paper\",\"y\":1.0,\"yanchor\":\"bottom\",\"yref\":\"paper\"},{\"font\":{\"size\":13},\"showarrow\":false,\"text\":\"prediction\",\"textangle\":-90,\"x\":-0.07,\"xref\":\"paper\",\"y\":0.5,\"yref\":\"paper\"}],\"legend\":{\"title\":{\"text\":\"label\",\"font\":{\"size\":12}},\"tracegroupgap\":0,\"font\":{\"size\":11},\"orientation\":\"h\",\"yanchor\":\"bottom\",\"y\":1.0613496932515338,\"xanchor\":\"right\",\"x\":1,\"itemsizing\":\"constant\"},\"margin\":{\"t\":78,\"b\":71,\"r\":30},\"font\":{\"color\":\"#371ea3\"},\"title\":{\"font\":{\"size\":16},\"text\":\"Aggregated Profiles\",\"x\":0.15},\"hovermode\":\"x unified\",\"height\":489},                        {\"displaylogo\": false, \"staticPlot\": false, \"toImageButtonOptions\": {\"height\": null, \"width\": null}, \"modeBarButtonsToRemove\": [\"sendDataToCloud\", \"lasso2d\", \"autoScale2d\", \"select2d\", \"zoom2d\", \"pan2d\", \"zoomIn2d\", \"zoomOut2d\", \"resetScale2d\", \"toggleSpikelines\", \"hoverCompareCartesian\", \"hoverClosestCartesian\"], \"responsive\": true}                    ).then(function(){\n",
       "                            \n",
       "var gd = document.getElementById('472b5b63-f080-4767-b8be-ff27eff056c7');\n",
       "var x = new MutationObserver(function (mutations, observer) {{\n",
       "        var display = window.getComputedStyle(gd).display;\n",
       "        if (!display || display === 'none') {{\n",
       "            console.log([gd, 'removed!']);\n",
       "            Plotly.purge(gd);\n",
       "            observer.disconnect();\n",
       "        }}\n",
       "}});\n",
       "\n",
       "// Listen for the removal of the full notebook cells\n",
       "var notebookContainer = gd.closest('#notebook-container');\n",
       "if (notebookContainer) {{\n",
       "    x.observe(notebookContainer, {childList: true});\n",
       "}}\n",
       "\n",
       "// Listen for the clearing of the current output cell\n",
       "var outputEl = gd.closest('.output');\n",
       "if (outputEl) {{\n",
       "    x.observe(outputEl, {childList: true});\n",
       "}}\n",
       "\n",
       "                        })                };                });            </script>        </div>"
      ]
     },
     "metadata": {},
     "output_type": "display_data"
    }
   ],
   "source": [
    "exp.model_profile(variables='sulphates').plot()"
   ]
  },
  {
   "cell_type": "code",
   "execution_count": 61,
   "id": "continental-dutch",
   "metadata": {},
   "outputs": [
    {
     "name": "stderr",
     "output_type": "stream",
     "text": [
      "Calculating ceteris paribus: 100%|██████████| 1/1 [00:00<00:00, 72.84it/s]\n"
     ]
    },
    {
     "data": {
      "application/vnd.plotly.v1+json": {
       "config": {
        "displaylogo": false,
        "modeBarButtonsToRemove": [
         "sendDataToCloud",
         "lasso2d",
         "autoScale2d",
         "select2d",
         "zoom2d",
         "pan2d",
         "zoomIn2d",
         "zoomOut2d",
         "resetScale2d",
         "toggleSpikelines",
         "hoverCompareCartesian",
         "hoverClosestCartesian"
        ],
        "plotlyServerURL": "https://plot.ly",
        "staticPlot": false,
        "toImageButtonOptions": {
         "height": null,
         "width": null
        }
       },
       "data": [
        {
         "customdata": [
          [
           0.15282805263996124,
           "XGBClassifier",
           "fixed acidity"
          ],
          [
           0.15282805263996124,
           "XGBClassifier",
           "fixed acidity"
          ],
          [
           0.15282805263996124,
           "XGBClassifier",
           "fixed acidity"
          ],
          [
           0.15282805263996124,
           "XGBClassifier",
           "fixed acidity"
          ],
          [
           0.15282805263996124,
           "XGBClassifier",
           "fixed acidity"
          ],
          [
           0.15282805263996124,
           "XGBClassifier",
           "fixed acidity"
          ],
          [
           0.15282805263996124,
           "XGBClassifier",
           "fixed acidity"
          ],
          [
           0.15282805263996124,
           "XGBClassifier",
           "fixed acidity"
          ],
          [
           0.15282805263996124,
           "XGBClassifier",
           "fixed acidity"
          ],
          [
           0.15282805263996124,
           "XGBClassifier",
           "fixed acidity"
          ],
          [
           0.15282805263996124,
           "XGBClassifier",
           "fixed acidity"
          ],
          [
           0.15282805263996124,
           "XGBClassifier",
           "fixed acidity"
          ],
          [
           0.15282805263996124,
           "XGBClassifier",
           "fixed acidity"
          ],
          [
           0.15282805263996124,
           "XGBClassifier",
           "fixed acidity"
          ],
          [
           0.15282805263996124,
           "XGBClassifier",
           "fixed acidity"
          ],
          [
           0.15282805263996124,
           "XGBClassifier",
           "fixed acidity"
          ],
          [
           0.15282805263996124,
           "XGBClassifier",
           "fixed acidity"
          ],
          [
           0.15282805263996124,
           "XGBClassifier",
           "fixed acidity"
          ],
          [
           0.15282805263996124,
           "XGBClassifier",
           "fixed acidity"
          ],
          [
           0.15282805263996124,
           "XGBClassifier",
           "fixed acidity"
          ],
          [
           0.15282805263996124,
           "XGBClassifier",
           "fixed acidity"
          ],
          [
           0.15282805263996124,
           "XGBClassifier",
           "fixed acidity"
          ],
          [
           0.15282805263996124,
           "XGBClassifier",
           "fixed acidity"
          ],
          [
           0.15282805263996124,
           "XGBClassifier",
           "fixed acidity"
          ],
          [
           0.15282805263996124,
           "XGBClassifier",
           "fixed acidity"
          ],
          [
           0.15282805263996124,
           "XGBClassifier",
           "fixed acidity"
          ],
          [
           0.15282805263996124,
           "XGBClassifier",
           "fixed acidity"
          ],
          [
           0.15282805263996124,
           "XGBClassifier",
           "fixed acidity"
          ],
          [
           0.15282805263996124,
           "XGBClassifier",
           "fixed acidity"
          ],
          [
           0.15282805263996124,
           "XGBClassifier",
           "fixed acidity"
          ],
          [
           0.15282805263996124,
           "XGBClassifier",
           "fixed acidity"
          ],
          [
           0.15282805263996124,
           "XGBClassifier",
           "fixed acidity"
          ],
          [
           0.15282805263996124,
           "XGBClassifier",
           "fixed acidity"
          ],
          [
           0.15282805263996124,
           "XGBClassifier",
           "fixed acidity"
          ],
          [
           0.15282805263996124,
           "XGBClassifier",
           "fixed acidity"
          ],
          [
           0.15282805263996124,
           "XGBClassifier",
           "fixed acidity"
          ],
          [
           0.15282805263996124,
           "XGBClassifier",
           "fixed acidity"
          ],
          [
           0.15282805263996124,
           "XGBClassifier",
           "fixed acidity"
          ],
          [
           0.15282805263996124,
           "XGBClassifier",
           "fixed acidity"
          ],
          [
           0.15282805263996124,
           "XGBClassifier",
           "fixed acidity"
          ],
          [
           0.15282805263996124,
           "XGBClassifier",
           "fixed acidity"
          ],
          [
           0.15282805263996124,
           "XGBClassifier",
           "fixed acidity"
          ],
          [
           0.15282805263996124,
           "XGBClassifier",
           "fixed acidity"
          ],
          [
           0.15282805263996124,
           "XGBClassifier",
           "fixed acidity"
          ],
          [
           0.15282805263996124,
           "XGBClassifier",
           "fixed acidity"
          ],
          [
           0.15282805263996124,
           "XGBClassifier",
           "fixed acidity"
          ],
          [
           0.15282805263996124,
           "XGBClassifier",
           "fixed acidity"
          ],
          [
           0.15282805263996124,
           "XGBClassifier",
           "fixed acidity"
          ],
          [
           0.15282805263996124,
           "XGBClassifier",
           "fixed acidity"
          ],
          [
           0.15282805263996124,
           "XGBClassifier",
           "fixed acidity"
          ],
          [
           0.15282805263996124,
           "XGBClassifier",
           "fixed acidity"
          ],
          [
           0.15282805263996124,
           "XGBClassifier",
           "fixed acidity"
          ],
          [
           0.15282805263996124,
           "XGBClassifier",
           "fixed acidity"
          ],
          [
           0.15282805263996124,
           "XGBClassifier",
           "fixed acidity"
          ],
          [
           0.15282805263996124,
           "XGBClassifier",
           "fixed acidity"
          ],
          [
           0.15282805263996124,
           "XGBClassifier",
           "fixed acidity"
          ],
          [
           0.15282805263996124,
           "XGBClassifier",
           "fixed acidity"
          ],
          [
           0.15282805263996124,
           "XGBClassifier",
           "fixed acidity"
          ],
          [
           0.15282805263996124,
           "XGBClassifier",
           "fixed acidity"
          ],
          [
           0.15282805263996124,
           "XGBClassifier",
           "fixed acidity"
          ],
          [
           0.15282805263996124,
           "XGBClassifier",
           "fixed acidity"
          ],
          [
           0.15282805263996124,
           "XGBClassifier",
           "fixed acidity"
          ],
          [
           0.15282805263996124,
           "XGBClassifier",
           "fixed acidity"
          ],
          [
           0.15282805263996124,
           "XGBClassifier",
           "fixed acidity"
          ],
          [
           0.15282805263996124,
           "XGBClassifier",
           "fixed acidity"
          ],
          [
           0.15282805263996124,
           "XGBClassifier",
           "fixed acidity"
          ],
          [
           0.15282805263996124,
           "XGBClassifier",
           "fixed acidity"
          ],
          [
           0.15282805263996124,
           "XGBClassifier",
           "fixed acidity"
          ],
          [
           0.15282805263996124,
           "XGBClassifier",
           "fixed acidity"
          ],
          [
           0.15282805263996124,
           "XGBClassifier",
           "fixed acidity"
          ],
          [
           0.15282805263996124,
           "XGBClassifier",
           "fixed acidity"
          ],
          [
           0.15282805263996124,
           "XGBClassifier",
           "fixed acidity"
          ],
          [
           0.15282805263996124,
           "XGBClassifier",
           "fixed acidity"
          ],
          [
           0.15282805263996124,
           "XGBClassifier",
           "fixed acidity"
          ],
          [
           0.15282805263996124,
           "XGBClassifier",
           "fixed acidity"
          ],
          [
           0.15282805263996124,
           "XGBClassifier",
           "fixed acidity"
          ],
          [
           0.15282805263996124,
           "XGBClassifier",
           "fixed acidity"
          ],
          [
           0.15282805263996124,
           "XGBClassifier",
           "fixed acidity"
          ],
          [
           0.15282805263996124,
           "XGBClassifier",
           "fixed acidity"
          ],
          [
           0.15282805263996124,
           "XGBClassifier",
           "fixed acidity"
          ],
          [
           0.15282805263996124,
           "XGBClassifier",
           "fixed acidity"
          ],
          [
           0.15282805263996124,
           "XGBClassifier",
           "fixed acidity"
          ],
          [
           0.15282805263996124,
           "XGBClassifier",
           "fixed acidity"
          ],
          [
           0.15282805263996124,
           "XGBClassifier",
           "fixed acidity"
          ],
          [
           0.15282805263996124,
           "XGBClassifier",
           "fixed acidity"
          ],
          [
           0.15282805263996124,
           "XGBClassifier",
           "fixed acidity"
          ],
          [
           0.15282805263996124,
           "XGBClassifier",
           "fixed acidity"
          ],
          [
           0.15282805263996124,
           "XGBClassifier",
           "fixed acidity"
          ],
          [
           0.15282805263996124,
           "XGBClassifier",
           "fixed acidity"
          ],
          [
           0.15282805263996124,
           "XGBClassifier",
           "fixed acidity"
          ],
          [
           0.15282805263996124,
           "XGBClassifier",
           "fixed acidity"
          ],
          [
           0.15282805263996124,
           "XGBClassifier",
           "fixed acidity"
          ],
          [
           0.15282805263996124,
           "XGBClassifier",
           "fixed acidity"
          ],
          [
           0.15282805263996124,
           "XGBClassifier",
           "fixed acidity"
          ],
          [
           0.15282805263996124,
           "XGBClassifier",
           "fixed acidity"
          ],
          [
           0.15282805263996124,
           "XGBClassifier",
           "fixed acidity"
          ],
          [
           0.15282805263996124,
           "XGBClassifier",
           "fixed acidity"
          ],
          [
           0.15282805263996124,
           "XGBClassifier",
           "fixed acidity"
          ],
          [
           0.15282805263996124,
           "XGBClassifier",
           "fixed acidity"
          ],
          [
           0.15282805263996124,
           "XGBClassifier",
           "fixed acidity"
          ],
          [
           0.15282805263996124,
           "XGBClassifier",
           "fixed acidity"
          ]
         ],
         "hovertemplate": "<b>%{hovertext}</b><br><br>prediction=%{y:.3f}<br>mean_prediction=%{customdata[0]:.3f}<extra></extra>",
         "hovertext": [
          "XGBClassifier",
          "XGBClassifier",
          "XGBClassifier",
          "XGBClassifier",
          "XGBClassifier",
          "XGBClassifier",
          "XGBClassifier",
          "XGBClassifier",
          "XGBClassifier",
          "XGBClassifier",
          "XGBClassifier",
          "XGBClassifier",
          "XGBClassifier",
          "XGBClassifier",
          "XGBClassifier",
          "XGBClassifier",
          "XGBClassifier",
          "XGBClassifier",
          "XGBClassifier",
          "XGBClassifier",
          "XGBClassifier",
          "XGBClassifier",
          "XGBClassifier",
          "XGBClassifier",
          "XGBClassifier",
          "XGBClassifier",
          "XGBClassifier",
          "XGBClassifier",
          "XGBClassifier",
          "XGBClassifier",
          "XGBClassifier",
          "XGBClassifier",
          "XGBClassifier",
          "XGBClassifier",
          "XGBClassifier",
          "XGBClassifier",
          "XGBClassifier",
          "XGBClassifier",
          "XGBClassifier",
          "XGBClassifier",
          "XGBClassifier",
          "XGBClassifier",
          "XGBClassifier",
          "XGBClassifier",
          "XGBClassifier",
          "XGBClassifier",
          "XGBClassifier",
          "XGBClassifier",
          "XGBClassifier",
          "XGBClassifier",
          "XGBClassifier",
          "XGBClassifier",
          "XGBClassifier",
          "XGBClassifier",
          "XGBClassifier",
          "XGBClassifier",
          "XGBClassifier",
          "XGBClassifier",
          "XGBClassifier",
          "XGBClassifier",
          "XGBClassifier",
          "XGBClassifier",
          "XGBClassifier",
          "XGBClassifier",
          "XGBClassifier",
          "XGBClassifier",
          "XGBClassifier",
          "XGBClassifier",
          "XGBClassifier",
          "XGBClassifier",
          "XGBClassifier",
          "XGBClassifier",
          "XGBClassifier",
          "XGBClassifier",
          "XGBClassifier",
          "XGBClassifier",
          "XGBClassifier",
          "XGBClassifier",
          "XGBClassifier",
          "XGBClassifier",
          "XGBClassifier",
          "XGBClassifier",
          "XGBClassifier",
          "XGBClassifier",
          "XGBClassifier",
          "XGBClassifier",
          "XGBClassifier",
          "XGBClassifier",
          "XGBClassifier",
          "XGBClassifier",
          "XGBClassifier",
          "XGBClassifier",
          "XGBClassifier",
          "XGBClassifier",
          "XGBClassifier",
          "XGBClassifier",
          "XGBClassifier",
          "XGBClassifier",
          "XGBClassifier",
          "XGBClassifier",
          "XGBClassifier"
         ],
         "legendgroup": "XGBClassifier",
         "line": {
          "color": "#46bac2",
          "dash": "solid",
          "width": 2
         },
         "marker": {
          "symbol": "circle"
         },
         "mode": "lines",
         "name": "XGBClassifier",
         "opacity": 1,
         "orientation": "v",
         "showlegend": true,
         "type": "scatter",
         "x": [
          4.7,
          4.808,
          4.916,
          5.024,
          5.132000000000001,
          5.24,
          5.348000000000001,
          5.456,
          5.564,
          5.672000000000001,
          5.78,
          5.888,
          5.996,
          6.104,
          6.212000000000001,
          6.32,
          6.428000000000001,
          6.5360000000000005,
          6.644,
          6.752000000000001,
          6.86,
          6.968,
          7.0760000000000005,
          7.184000000000001,
          7.292000000000001,
          7.4,
          7.508000000000001,
          7.6160000000000005,
          7.724,
          7.832000000000001,
          7.94,
          8.048,
          8.156,
          8.264000000000001,
          8.372,
          8.48,
          8.588000000000001,
          8.696000000000002,
          8.804,
          8.912,
          9.02,
          9.128,
          9.236,
          9.344000000000001,
          9.452000000000002,
          9.56,
          9.668000000000001,
          9.776,
          9.884,
          9.992,
          10.100000000000001,
          10.208000000000002,
          10.316,
          10.424000000000001,
          10.532,
          10.64,
          10.748000000000001,
          10.856000000000002,
          10.964000000000002,
          11.072000000000001,
          11.18,
          11.288,
          11.396,
          11.504000000000001,
          11.612000000000002,
          11.72,
          11.828000000000001,
          11.936,
          12.044,
          12.152000000000001,
          12.260000000000002,
          12.368000000000002,
          12.476,
          12.584000000000001,
          12.692,
          12.8,
          12.908000000000001,
          13.016000000000002,
          13.124000000000002,
          13.232000000000003,
          13.34,
          13.448,
          13.556000000000001,
          13.664000000000001,
          13.772000000000002,
          13.880000000000003,
          13.988,
          14.096,
          14.204,
          14.312000000000001,
          14.420000000000002,
          14.528000000000002,
          14.636000000000003,
          14.744,
          14.852,
          14.96,
          15.068000000000001,
          15.176000000000002,
          15.284000000000002,
          15.392000000000003,
          15.5
         ],
         "xaxis": "x",
         "y": [
          0.15282805263996124,
          0.15282805263996124,
          0.15282805263996124,
          0.15282805263996124,
          0.15282805263996124,
          0.15282805263996124,
          0.15282805263996124,
          0.15282805263996124,
          0.15282805263996124,
          0.15282805263996124,
          0.15282805263996124,
          0.15282805263996124,
          0.15282805263996124,
          0.15282805263996124,
          0.15282805263996124,
          0.15282805263996124,
          0.15282805263996124,
          0.15282805263996124,
          0.15282805263996124,
          0.15282805263996124,
          0.15282805263996124,
          0.15282805263996124,
          0.15282805263996124,
          0.15282805263996124,
          0.15282805263996124,
          0.15282805263996124,
          0.15282805263996124,
          0.15282805263996124,
          0.15282805263996124,
          0.15282805263996124,
          0.15282805263996124,
          0.15282805263996124,
          0.15282805263996124,
          0.15282805263996124,
          0.15282805263996124,
          0.15282805263996124,
          0.15282805263996124,
          0.15282805263996124,
          0.15282805263996124,
          0.15282805263996124,
          0.15282805263996124,
          0.15282805263996124,
          0.15282805263996124,
          0.15282805263996124,
          0.15282805263996124,
          0.15282805263996124,
          0.15282805263996124,
          0.15282805263996124,
          0.15282805263996124,
          0.15282805263996124,
          0.15282805263996124,
          0.15282805263996124,
          0.15282805263996124,
          0.15282805263996124,
          0.15282805263996124,
          0.15282805263996124,
          0.15282805263996124,
          0.15282805263996124,
          0.15282805263996124,
          0.15282805263996124,
          0.15282805263996124,
          0.15282805263996124,
          0.15282805263996124,
          0.15282805263996124,
          0.15282805263996124,
          0.15282805263996124,
          0.15282805263996124,
          0.15282805263996124,
          0.15282805263996124,
          0.15282805263996124,
          0.15282805263996124,
          0.15282805263996124,
          0.15282805263996124,
          0.15282805263996124,
          0.15282805263996124,
          0.15282805263996124,
          0.15282805263996124,
          0.15282805263996124,
          0.15282805263996124,
          0.15282805263996124,
          0.15282805263996124,
          0.15282805263996124,
          0.15282805263996124,
          0.15282805263996124,
          0.15282805263996124,
          0.15282805263996124,
          0.15282805263996124,
          0.15282805263996124,
          0.15282805263996124,
          0.15282805263996124,
          0.15282805263996124,
          0.15282805263996124,
          0.15282805263996124,
          0.15282805263996124,
          0.15282805263996124,
          0.15282805263996124,
          0.15282805263996124,
          0.15282805263996124,
          0.15282805263996124,
          0.15282805263996124,
          0.15282805263996124
         ],
         "yaxis": "y"
        }
       ],
       "layout": {
        "annotations": [
         {
          "font": {
           "size": 13
          },
          "showarrow": false,
          "text": "fixed acidity",
          "x": 0.5,
          "xanchor": "center",
          "xref": "paper",
          "y": 1,
          "yanchor": "bottom",
          "yref": "paper"
         },
         {
          "font": {
           "size": 13
          },
          "showarrow": false,
          "text": "prediction",
          "textangle": -90,
          "x": -0.07,
          "xref": "paper",
          "y": 0.5,
          "yref": "paper"
         }
        ],
        "font": {
         "color": "#371ea3"
        },
        "height": 489,
        "hovermode": "x unified",
        "legend": {
         "font": {
          "size": 11
         },
         "itemsizing": "constant",
         "orientation": "h",
         "title": {
          "font": {
           "size": 12
          },
          "text": "label"
         },
         "tracegroupgap": 0,
         "x": 1,
         "xanchor": "right",
         "y": 1.0613496932515338,
         "yanchor": "bottom"
        },
        "margin": {
         "b": 71,
         "r": 30,
         "t": 78
        },
        "template": {
         "data": {
          "scatter": [
           {
            "type": "scatter"
           }
          ]
         }
        },
        "title": {
         "font": {
          "size": 16
         },
         "text": "Aggregated Profiles",
         "x": 0.15
        },
        "xaxis": {
         "anchor": "y",
         "automargin": true,
         "domain": [
          0,
          1
         ],
         "fixedrange": true,
         "gridwidth": 2,
         "showticklabels": true,
         "tickcolor": "white",
         "ticklen": 3,
         "ticks": "outside",
         "title": {
          "text": ""
         },
         "type": "linear",
         "zeroline": false
        },
        "yaxis": {
         "anchor": "x",
         "automargin": true,
         "domain": [
          0,
          1
         ],
         "fixedrange": true,
         "gridwidth": 2,
         "range": [
          0.15282805263996124,
          0.15282805263996124
         ],
         "tickcolor": "white",
         "ticklen": 3,
         "ticks": "outside",
         "title": {
          "text": ""
         },
         "type": "linear",
         "zeroline": false
        }
       }
      },
      "text/html": [
       "<div>                            <div id=\"a35b1e26-621c-441c-a864-2ff0bbec891a\" class=\"plotly-graph-div\" style=\"height:489px; width:100%;\"></div>            <script type=\"text/javascript\">                require([\"plotly\"], function(Plotly) {                    window.PLOTLYENV=window.PLOTLYENV || {};                                    if (document.getElementById(\"a35b1e26-621c-441c-a864-2ff0bbec891a\")) {                    Plotly.newPlot(                        \"a35b1e26-621c-441c-a864-2ff0bbec891a\",                        [{\"customdata\":[[0.15282805263996124,\"XGBClassifier\",\"fixed acidity\"],[0.15282805263996124,\"XGBClassifier\",\"fixed acidity\"],[0.15282805263996124,\"XGBClassifier\",\"fixed acidity\"],[0.15282805263996124,\"XGBClassifier\",\"fixed acidity\"],[0.15282805263996124,\"XGBClassifier\",\"fixed acidity\"],[0.15282805263996124,\"XGBClassifier\",\"fixed acidity\"],[0.15282805263996124,\"XGBClassifier\",\"fixed acidity\"],[0.15282805263996124,\"XGBClassifier\",\"fixed acidity\"],[0.15282805263996124,\"XGBClassifier\",\"fixed acidity\"],[0.15282805263996124,\"XGBClassifier\",\"fixed acidity\"],[0.15282805263996124,\"XGBClassifier\",\"fixed acidity\"],[0.15282805263996124,\"XGBClassifier\",\"fixed acidity\"],[0.15282805263996124,\"XGBClassifier\",\"fixed acidity\"],[0.15282805263996124,\"XGBClassifier\",\"fixed acidity\"],[0.15282805263996124,\"XGBClassifier\",\"fixed acidity\"],[0.15282805263996124,\"XGBClassifier\",\"fixed acidity\"],[0.15282805263996124,\"XGBClassifier\",\"fixed acidity\"],[0.15282805263996124,\"XGBClassifier\",\"fixed acidity\"],[0.15282805263996124,\"XGBClassifier\",\"fixed acidity\"],[0.15282805263996124,\"XGBClassifier\",\"fixed acidity\"],[0.15282805263996124,\"XGBClassifier\",\"fixed acidity\"],[0.15282805263996124,\"XGBClassifier\",\"fixed acidity\"],[0.15282805263996124,\"XGBClassifier\",\"fixed acidity\"],[0.15282805263996124,\"XGBClassifier\",\"fixed acidity\"],[0.15282805263996124,\"XGBClassifier\",\"fixed acidity\"],[0.15282805263996124,\"XGBClassifier\",\"fixed acidity\"],[0.15282805263996124,\"XGBClassifier\",\"fixed acidity\"],[0.15282805263996124,\"XGBClassifier\",\"fixed acidity\"],[0.15282805263996124,\"XGBClassifier\",\"fixed acidity\"],[0.15282805263996124,\"XGBClassifier\",\"fixed acidity\"],[0.15282805263996124,\"XGBClassifier\",\"fixed acidity\"],[0.15282805263996124,\"XGBClassifier\",\"fixed acidity\"],[0.15282805263996124,\"XGBClassifier\",\"fixed acidity\"],[0.15282805263996124,\"XGBClassifier\",\"fixed acidity\"],[0.15282805263996124,\"XGBClassifier\",\"fixed acidity\"],[0.15282805263996124,\"XGBClassifier\",\"fixed acidity\"],[0.15282805263996124,\"XGBClassifier\",\"fixed acidity\"],[0.15282805263996124,\"XGBClassifier\",\"fixed acidity\"],[0.15282805263996124,\"XGBClassifier\",\"fixed acidity\"],[0.15282805263996124,\"XGBClassifier\",\"fixed acidity\"],[0.15282805263996124,\"XGBClassifier\",\"fixed acidity\"],[0.15282805263996124,\"XGBClassifier\",\"fixed acidity\"],[0.15282805263996124,\"XGBClassifier\",\"fixed acidity\"],[0.15282805263996124,\"XGBClassifier\",\"fixed acidity\"],[0.15282805263996124,\"XGBClassifier\",\"fixed acidity\"],[0.15282805263996124,\"XGBClassifier\",\"fixed acidity\"],[0.15282805263996124,\"XGBClassifier\",\"fixed acidity\"],[0.15282805263996124,\"XGBClassifier\",\"fixed acidity\"],[0.15282805263996124,\"XGBClassifier\",\"fixed acidity\"],[0.15282805263996124,\"XGBClassifier\",\"fixed acidity\"],[0.15282805263996124,\"XGBClassifier\",\"fixed acidity\"],[0.15282805263996124,\"XGBClassifier\",\"fixed acidity\"],[0.15282805263996124,\"XGBClassifier\",\"fixed acidity\"],[0.15282805263996124,\"XGBClassifier\",\"fixed acidity\"],[0.15282805263996124,\"XGBClassifier\",\"fixed acidity\"],[0.15282805263996124,\"XGBClassifier\",\"fixed acidity\"],[0.15282805263996124,\"XGBClassifier\",\"fixed acidity\"],[0.15282805263996124,\"XGBClassifier\",\"fixed acidity\"],[0.15282805263996124,\"XGBClassifier\",\"fixed acidity\"],[0.15282805263996124,\"XGBClassifier\",\"fixed acidity\"],[0.15282805263996124,\"XGBClassifier\",\"fixed acidity\"],[0.15282805263996124,\"XGBClassifier\",\"fixed acidity\"],[0.15282805263996124,\"XGBClassifier\",\"fixed acidity\"],[0.15282805263996124,\"XGBClassifier\",\"fixed acidity\"],[0.15282805263996124,\"XGBClassifier\",\"fixed acidity\"],[0.15282805263996124,\"XGBClassifier\",\"fixed acidity\"],[0.15282805263996124,\"XGBClassifier\",\"fixed acidity\"],[0.15282805263996124,\"XGBClassifier\",\"fixed acidity\"],[0.15282805263996124,\"XGBClassifier\",\"fixed acidity\"],[0.15282805263996124,\"XGBClassifier\",\"fixed acidity\"],[0.15282805263996124,\"XGBClassifier\",\"fixed acidity\"],[0.15282805263996124,\"XGBClassifier\",\"fixed acidity\"],[0.15282805263996124,\"XGBClassifier\",\"fixed acidity\"],[0.15282805263996124,\"XGBClassifier\",\"fixed acidity\"],[0.15282805263996124,\"XGBClassifier\",\"fixed acidity\"],[0.15282805263996124,\"XGBClassifier\",\"fixed acidity\"],[0.15282805263996124,\"XGBClassifier\",\"fixed acidity\"],[0.15282805263996124,\"XGBClassifier\",\"fixed acidity\"],[0.15282805263996124,\"XGBClassifier\",\"fixed acidity\"],[0.15282805263996124,\"XGBClassifier\",\"fixed acidity\"],[0.15282805263996124,\"XGBClassifier\",\"fixed acidity\"],[0.15282805263996124,\"XGBClassifier\",\"fixed acidity\"],[0.15282805263996124,\"XGBClassifier\",\"fixed acidity\"],[0.15282805263996124,\"XGBClassifier\",\"fixed acidity\"],[0.15282805263996124,\"XGBClassifier\",\"fixed acidity\"],[0.15282805263996124,\"XGBClassifier\",\"fixed acidity\"],[0.15282805263996124,\"XGBClassifier\",\"fixed acidity\"],[0.15282805263996124,\"XGBClassifier\",\"fixed acidity\"],[0.15282805263996124,\"XGBClassifier\",\"fixed acidity\"],[0.15282805263996124,\"XGBClassifier\",\"fixed acidity\"],[0.15282805263996124,\"XGBClassifier\",\"fixed acidity\"],[0.15282805263996124,\"XGBClassifier\",\"fixed acidity\"],[0.15282805263996124,\"XGBClassifier\",\"fixed acidity\"],[0.15282805263996124,\"XGBClassifier\",\"fixed acidity\"],[0.15282805263996124,\"XGBClassifier\",\"fixed acidity\"],[0.15282805263996124,\"XGBClassifier\",\"fixed acidity\"],[0.15282805263996124,\"XGBClassifier\",\"fixed acidity\"],[0.15282805263996124,\"XGBClassifier\",\"fixed acidity\"],[0.15282805263996124,\"XGBClassifier\",\"fixed acidity\"],[0.15282805263996124,\"XGBClassifier\",\"fixed acidity\"],[0.15282805263996124,\"XGBClassifier\",\"fixed acidity\"]],\"hovertemplate\":\"<b>%{hovertext}</b><br><br>prediction=%{y:.3f}<br>mean_prediction=%{customdata[0]:.3f}<extra></extra>\",\"hovertext\":[\"XGBClassifier\",\"XGBClassifier\",\"XGBClassifier\",\"XGBClassifier\",\"XGBClassifier\",\"XGBClassifier\",\"XGBClassifier\",\"XGBClassifier\",\"XGBClassifier\",\"XGBClassifier\",\"XGBClassifier\",\"XGBClassifier\",\"XGBClassifier\",\"XGBClassifier\",\"XGBClassifier\",\"XGBClassifier\",\"XGBClassifier\",\"XGBClassifier\",\"XGBClassifier\",\"XGBClassifier\",\"XGBClassifier\",\"XGBClassifier\",\"XGBClassifier\",\"XGBClassifier\",\"XGBClassifier\",\"XGBClassifier\",\"XGBClassifier\",\"XGBClassifier\",\"XGBClassifier\",\"XGBClassifier\",\"XGBClassifier\",\"XGBClassifier\",\"XGBClassifier\",\"XGBClassifier\",\"XGBClassifier\",\"XGBClassifier\",\"XGBClassifier\",\"XGBClassifier\",\"XGBClassifier\",\"XGBClassifier\",\"XGBClassifier\",\"XGBClassifier\",\"XGBClassifier\",\"XGBClassifier\",\"XGBClassifier\",\"XGBClassifier\",\"XGBClassifier\",\"XGBClassifier\",\"XGBClassifier\",\"XGBClassifier\",\"XGBClassifier\",\"XGBClassifier\",\"XGBClassifier\",\"XGBClassifier\",\"XGBClassifier\",\"XGBClassifier\",\"XGBClassifier\",\"XGBClassifier\",\"XGBClassifier\",\"XGBClassifier\",\"XGBClassifier\",\"XGBClassifier\",\"XGBClassifier\",\"XGBClassifier\",\"XGBClassifier\",\"XGBClassifier\",\"XGBClassifier\",\"XGBClassifier\",\"XGBClassifier\",\"XGBClassifier\",\"XGBClassifier\",\"XGBClassifier\",\"XGBClassifier\",\"XGBClassifier\",\"XGBClassifier\",\"XGBClassifier\",\"XGBClassifier\",\"XGBClassifier\",\"XGBClassifier\",\"XGBClassifier\",\"XGBClassifier\",\"XGBClassifier\",\"XGBClassifier\",\"XGBClassifier\",\"XGBClassifier\",\"XGBClassifier\",\"XGBClassifier\",\"XGBClassifier\",\"XGBClassifier\",\"XGBClassifier\",\"XGBClassifier\",\"XGBClassifier\",\"XGBClassifier\",\"XGBClassifier\",\"XGBClassifier\",\"XGBClassifier\",\"XGBClassifier\",\"XGBClassifier\",\"XGBClassifier\",\"XGBClassifier\",\"XGBClassifier\"],\"legendgroup\":\"XGBClassifier\",\"line\":{\"color\":\"#46bac2\",\"dash\":\"solid\",\"width\":2},\"marker\":{\"symbol\":\"circle\"},\"mode\":\"lines\",\"name\":\"XGBClassifier\",\"orientation\":\"v\",\"showlegend\":true,\"x\":[4.7,4.808,4.916,5.024,5.132000000000001,5.24,5.348000000000001,5.456,5.564,5.672000000000001,5.78,5.888,5.996,6.104,6.212000000000001,6.32,6.428000000000001,6.5360000000000005,6.644,6.752000000000001,6.86,6.968,7.0760000000000005,7.184000000000001,7.292000000000001,7.4,7.508000000000001,7.6160000000000005,7.724,7.832000000000001,7.94,8.048,8.156,8.264000000000001,8.372,8.48,8.588000000000001,8.696000000000002,8.804,8.912,9.02,9.128,9.236,9.344000000000001,9.452000000000002,9.56,9.668000000000001,9.776,9.884,9.992,10.100000000000001,10.208000000000002,10.316,10.424000000000001,10.532,10.64,10.748000000000001,10.856000000000002,10.964000000000002,11.072000000000001,11.18,11.288,11.396,11.504000000000001,11.612000000000002,11.72,11.828000000000001,11.936,12.044,12.152000000000001,12.260000000000002,12.368000000000002,12.476,12.584000000000001,12.692,12.8,12.908000000000001,13.016000000000002,13.124000000000002,13.232000000000003,13.34,13.448,13.556000000000001,13.664000000000001,13.772000000000002,13.880000000000003,13.988,14.096,14.204,14.312000000000001,14.420000000000002,14.528000000000002,14.636000000000003,14.744,14.852,14.96,15.068000000000001,15.176000000000002,15.284000000000002,15.392000000000003,15.5],\"xaxis\":\"x\",\"y\":[0.15282805263996124,0.15282805263996124,0.15282805263996124,0.15282805263996124,0.15282805263996124,0.15282805263996124,0.15282805263996124,0.15282805263996124,0.15282805263996124,0.15282805263996124,0.15282805263996124,0.15282805263996124,0.15282805263996124,0.15282805263996124,0.15282805263996124,0.15282805263996124,0.15282805263996124,0.15282805263996124,0.15282805263996124,0.15282805263996124,0.15282805263996124,0.15282805263996124,0.15282805263996124,0.15282805263996124,0.15282805263996124,0.15282805263996124,0.15282805263996124,0.15282805263996124,0.15282805263996124,0.15282805263996124,0.15282805263996124,0.15282805263996124,0.15282805263996124,0.15282805263996124,0.15282805263996124,0.15282805263996124,0.15282805263996124,0.15282805263996124,0.15282805263996124,0.15282805263996124,0.15282805263996124,0.15282805263996124,0.15282805263996124,0.15282805263996124,0.15282805263996124,0.15282805263996124,0.15282805263996124,0.15282805263996124,0.15282805263996124,0.15282805263996124,0.15282805263996124,0.15282805263996124,0.15282805263996124,0.15282805263996124,0.15282805263996124,0.15282805263996124,0.15282805263996124,0.15282805263996124,0.15282805263996124,0.15282805263996124,0.15282805263996124,0.15282805263996124,0.15282805263996124,0.15282805263996124,0.15282805263996124,0.15282805263996124,0.15282805263996124,0.15282805263996124,0.15282805263996124,0.15282805263996124,0.15282805263996124,0.15282805263996124,0.15282805263996124,0.15282805263996124,0.15282805263996124,0.15282805263996124,0.15282805263996124,0.15282805263996124,0.15282805263996124,0.15282805263996124,0.15282805263996124,0.15282805263996124,0.15282805263996124,0.15282805263996124,0.15282805263996124,0.15282805263996124,0.15282805263996124,0.15282805263996124,0.15282805263996124,0.15282805263996124,0.15282805263996124,0.15282805263996124,0.15282805263996124,0.15282805263996124,0.15282805263996124,0.15282805263996124,0.15282805263996124,0.15282805263996124,0.15282805263996124,0.15282805263996124,0.15282805263996124],\"yaxis\":\"y\",\"type\":\"scatter\",\"opacity\":1}],                        {\"template\":{\"data\":{\"scatter\":[{\"type\":\"scatter\"}]}},\"xaxis\":{\"anchor\":\"y\",\"domain\":[0.0,1.0],\"title\":{\"text\":\"\"},\"showticklabels\":true,\"type\":\"linear\",\"gridwidth\":2,\"zeroline\":false,\"automargin\":true,\"ticks\":\"outside\",\"tickcolor\":\"white\",\"ticklen\":3,\"fixedrange\":true},\"yaxis\":{\"anchor\":\"x\",\"domain\":[0.0,1.0],\"title\":{\"text\":\"\"},\"range\":[0.15282805263996124,0.15282805263996124],\"type\":\"linear\",\"gridwidth\":2,\"zeroline\":false,\"automargin\":true,\"ticks\":\"outside\",\"tickcolor\":\"white\",\"ticklen\":3,\"fixedrange\":true},\"annotations\":[{\"font\":{\"size\":13},\"showarrow\":false,\"text\":\"fixed acidity\",\"x\":0.5,\"xanchor\":\"center\",\"xref\":\"paper\",\"y\":1.0,\"yanchor\":\"bottom\",\"yref\":\"paper\"},{\"font\":{\"size\":13},\"showarrow\":false,\"text\":\"prediction\",\"textangle\":-90,\"x\":-0.07,\"xref\":\"paper\",\"y\":0.5,\"yref\":\"paper\"}],\"legend\":{\"title\":{\"text\":\"label\",\"font\":{\"size\":12}},\"tracegroupgap\":0,\"font\":{\"size\":11},\"orientation\":\"h\",\"yanchor\":\"bottom\",\"y\":1.0613496932515338,\"xanchor\":\"right\",\"x\":1,\"itemsizing\":\"constant\"},\"margin\":{\"t\":78,\"b\":71,\"r\":30},\"font\":{\"color\":\"#371ea3\"},\"title\":{\"font\":{\"size\":16},\"text\":\"Aggregated Profiles\",\"x\":0.15},\"hovermode\":\"x unified\",\"height\":489},                        {\"displaylogo\": false, \"staticPlot\": false, \"toImageButtonOptions\": {\"height\": null, \"width\": null}, \"modeBarButtonsToRemove\": [\"sendDataToCloud\", \"lasso2d\", \"autoScale2d\", \"select2d\", \"zoom2d\", \"pan2d\", \"zoomIn2d\", \"zoomOut2d\", \"resetScale2d\", \"toggleSpikelines\", \"hoverCompareCartesian\", \"hoverClosestCartesian\"], \"responsive\": true}                    ).then(function(){\n",
       "                            \n",
       "var gd = document.getElementById('a35b1e26-621c-441c-a864-2ff0bbec891a');\n",
       "var x = new MutationObserver(function (mutations, observer) {{\n",
       "        var display = window.getComputedStyle(gd).display;\n",
       "        if (!display || display === 'none') {{\n",
       "            console.log([gd, 'removed!']);\n",
       "            Plotly.purge(gd);\n",
       "            observer.disconnect();\n",
       "        }}\n",
       "}});\n",
       "\n",
       "// Listen for the removal of the full notebook cells\n",
       "var notebookContainer = gd.closest('#notebook-container');\n",
       "if (notebookContainer) {{\n",
       "    x.observe(notebookContainer, {childList: true});\n",
       "}}\n",
       "\n",
       "// Listen for the clearing of the current output cell\n",
       "var outputEl = gd.closest('.output');\n",
       "if (outputEl) {{\n",
       "    x.observe(outputEl, {childList: true});\n",
       "}}\n",
       "\n",
       "                        })                };                });            </script>        </div>"
      ]
     },
     "metadata": {},
     "output_type": "display_data"
    }
   ],
   "source": [
    "exp.model_profile(variables='fixed acidity').plot()"
   ]
  },
  {
   "cell_type": "code",
   "execution_count": null,
   "id": "mediterranean-invasion",
   "metadata": {},
   "outputs": [],
   "source": []
  }
 ],
 "metadata": {
  "kernelspec": {
   "display_name": "Python 3",
   "language": "python",
   "name": "python3"
  },
  "language_info": {
   "codemirror_mode": {
    "name": "ipython",
    "version": 3
   },
   "file_extension": ".py",
   "mimetype": "text/x-python",
   "name": "python",
   "nbconvert_exporter": "python",
   "pygments_lexer": "ipython3",
   "version": "3.8.5"
  }
 },
 "nbformat": 4,
 "nbformat_minor": 5
}
